{
 "cells": [
  {
   "cell_type": "markdown",
   "metadata": {},
   "source": [
    "# Understand the behavior of number of the shots and simulator\n",
    "\n",
    "Since the number of the shots from the simulator play role in the accuracy and the expressibilty, we want to further study the effect of the those parameters. \n",
    "\n",
    "In this document, we will only focus on the arbitary circuit since it should give identical result with the harr distribution."
   ]
  },
  {
   "cell_type": "code",
   "execution_count": 1,
   "metadata": {},
   "outputs": [
    {
     "name": "stderr",
     "output_type": "stream",
     "text": [
      "C:\\Users\\Saesun Kim\\anaconda3\\envs\\name_of_my_env\\lib\\site-packages\\qiskit\\providers\\ibmq\\ibmqfactory.py:192: UserWarning: Timestamps in IBMQ backend properties, jobs, and job results are all now in local time instead of UTC.\n",
      "  warnings.warn('Timestamps in IBMQ backend properties, jobs, and job results '\n"
     ]
    }
   ],
   "source": [
    "from matplotlib import pyplot\n",
    "from qiskit import *\n",
    "from qiskit import QuantumRegister, ClassicalRegister, QuantumCircuit\n",
    "from qiskit import IBMQ, Aer, execute,assemble,QuantumCircuit, aqua\n",
    "from qiskit.visualization import plot_histogram, plot_bloch_vector, plot_bloch_multivector\n",
    "from qiskit.quantum_info import Statevector\n",
    "from qiskit.extensions import *\n",
    "provider = IBMQ.load_account()\n",
    "\n",
    "from qiskit.quantum_info import random_unitary\n",
    "from qiskit.providers.aer import QasmSimulator, StatevectorSimulator, UnitarySimulator\n",
    "import matplotlib.pyplot as plt\n",
    "%matplotlib inline\n",
    "import numpy as np\n",
    "import math\n",
    "from math import pi, sqrt\n",
    "\n",
    "from scipy.special import rel_entr\n",
    "from random import seed\n",
    "from random import random\n",
    "import cmath"
   ]
  },
  {
   "cell_type": "code",
   "execution_count": null,
   "metadata": {},
   "outputs": [],
   "source": [
    "import sys\n",
    "sys.path.append('../Pyfiles')\n",
    "from circuits import *"
   ]
  },
  {
   "cell_type": "code",
   "execution_count": 2,
   "metadata": {},
   "outputs": [],
   "source": [
    "\n",
    "#Possible Bin\n",
    "bins_list=[];\n",
    "for i in range(76):\n",
    "    bins_list.append((i)/75)\n",
    "#Center of the Bean\n",
    "bins_x=[]    \n",
    "for i in range(75):\n",
    "    bins_x.append(bins_list[1]+bins_list[i])\n",
    "def P_harr(l,u,N):\n",
    "    return (1-l)**(N-1)-(1-u)**(N-1)\n",
    "#Harr historgram\n",
    "P_harr_hist=[]\n",
    "for i in range(75):\n",
    "    P_harr_hist.append(P_harr(bins_list[i],bins_list[i+1],2))    \n",
    "#Imaginary    \n",
    "j=(-1)**(1/2)"
   ]
  },
  {
   "cell_type": "code",
   "execution_count": 3,
   "metadata": {},
   "outputs": [
    {
     "name": "stderr",
     "output_type": "stream",
     "text": [
      "ibmqfactory.load_account:WARNING:2021-03-21 00:50:30,964: Credentials are already in use. The existing account in the session will be replaced.\n"
     ]
    },
    {
     "data": {
      "text/plain": [
       "[<IBMQSimulator('ibmq_qasm_simulator') from IBMQ(hub='ibm-q', group='open', project='main')>,\n",
       " <IBMQBackend('ibmqx2') from IBMQ(hub='ibm-q', group='open', project='main')>,\n",
       " <IBMQBackend('ibmq_16_melbourne') from IBMQ(hub='ibm-q', group='open', project='main')>,\n",
       " <IBMQBackend('ibmq_armonk') from IBMQ(hub='ibm-q', group='open', project='main')>,\n",
       " <IBMQBackend('ibmq_athens') from IBMQ(hub='ibm-q', group='open', project='main')>,\n",
       " <IBMQBackend('ibmq_santiago') from IBMQ(hub='ibm-q', group='open', project='main')>,\n",
       " <IBMQBackend('ibmq_lima') from IBMQ(hub='ibm-q', group='open', project='main')>,\n",
       " <IBMQBackend('ibmq_belem') from IBMQ(hub='ibm-q', group='open', project='main')>,\n",
       " <IBMQBackend('ibmq_quito') from IBMQ(hub='ibm-q', group='open', project='main')>,\n",
       " <IBMQSimulator('simulator_statevector') from IBMQ(hub='ibm-q', group='open', project='main')>,\n",
       " <IBMQSimulator('simulator_mps') from IBMQ(hub='ibm-q', group='open', project='main')>,\n",
       " <IBMQSimulator('simulator_extended_stabilizer') from IBMQ(hub='ibm-q', group='open', project='main')>,\n",
       " <IBMQSimulator('simulator_stabilizer') from IBMQ(hub='ibm-q', group='open', project='main')>]"
      ]
     },
     "execution_count": 3,
     "metadata": {},
     "output_type": "execute_result"
    }
   ],
   "source": [
    "from qiskit import IBMQ\n",
    "IBMQ.load_account()\n",
    "provider = IBMQ.get_provider(hub='ibm-q')\n",
    "provider.backends()"
   ]
  },
  {
   "cell_type": "code",
   "execution_count": 5,
   "metadata": {},
   "outputs": [],
   "source": [
    "backend = 'ibmq_valencia'# you may choice here a different backend"
   ]
  },
  {
   "cell_type": "code",
   "execution_count": null,
   "metadata": {},
   "outputs": [],
   "source": [
    "fidelity_dic = {'ibmq_athens': 0.925110, 'ibmq_valencia': 0.809101, 'ibmq_ourense': 0.802380,\n",
    "                \"ibmqx2\": 0.627392, 'ibmq_santiago': 0.919399, 'ibmq_vigo': 0.908840, 'ideal_device': 1.0}\n",
    "QV_dic = {'ibmq_athens': 32.0, 'ibmq_valencia': 16.0, 'ibmq_ourense': 8.0, \n",
    "          \"ibmqx2\": 8.0, 'ibmq_santiago': 32.0, 'ibmq_vigo': 16.0, 'ideal_device': np.inf}\n",
    "dev_dic =  {'ibmq_santiago': \"San\",'ibmq_athens': \"Ath\", 'ibmq_valencia': \"Val\", 'ibmq_vigo': 'Vig','ibmq_ourense': \"Our\",\n",
    "               \"ibmqx2\": 'Yor',  'ideal_device': \"Ide\"}"
   ]
  },
  {
   "cell_type": "markdown",
   "metadata": {},
   "source": [
    "## Arbitary Unitary Qasm_simulator"
   ]
  },
  {
   "cell_type": "code",
   "execution_count": 8,
   "metadata": {},
   "outputs": [
    {
     "ename": "QiskitBackendNotFoundError",
     "evalue": "'No backend matches the criteria'",
     "output_type": "error",
     "traceback": [
      "\u001b[1;31m---------------------------------------------------------------------------\u001b[0m",
      "\u001b[1;31mQiskitBackendNotFoundError\u001b[0m                Traceback (most recent call last)",
      "\u001b[1;32m<ipython-input-8-e9df1beceef4>\u001b[0m in \u001b[0;36m<module>\u001b[1;34m\u001b[0m\n\u001b[1;32m----> 1\u001b[1;33m \u001b[0mbackend\u001b[0m \u001b[1;33m=\u001b[0m \u001b[0mprovider\u001b[0m\u001b[1;33m.\u001b[0m\u001b[0mget_backend\u001b[0m\u001b[1;33m(\u001b[0m\u001b[1;34m'ibmq_vigo'\u001b[0m\u001b[1;33m)\u001b[0m\u001b[1;33m\u001b[0m\u001b[1;33m\u001b[0m\u001b[0m\n\u001b[0m\u001b[0;32m      2\u001b[0m \u001b[1;32mfor\u001b[0m \u001b[0mx\u001b[0m \u001b[1;32min\u001b[0m \u001b[0mrange\u001b[0m\u001b[1;33m(\u001b[0m\u001b[1;36m1\u001b[0m\u001b[1;33m,\u001b[0m\u001b[1;36m20\u001b[0m\u001b[1;33m,\u001b[0m\u001b[1;36m1\u001b[0m\u001b[1;33m)\u001b[0m\u001b[1;33m:\u001b[0m\u001b[1;33m\u001b[0m\u001b[1;33m\u001b[0m\u001b[0m\n\u001b[0;32m      3\u001b[0m     \u001b[0mprint\u001b[0m\u001b[1;33m(\u001b[0m\u001b[1;33m)\u001b[0m\u001b[1;33m\u001b[0m\u001b[1;33m\u001b[0m\u001b[0m\n\u001b[0;32m      4\u001b[0m \u001b[0marr\u001b[0m \u001b[1;33m=\u001b[0m \u001b[1;33m[\u001b[0m\u001b[1;33m]\u001b[0m\u001b[1;33m\u001b[0m\u001b[1;33m\u001b[0m\u001b[0m\n\u001b[0;32m      5\u001b[0m \u001b[1;32mfor\u001b[0m \u001b[0mnsh\u001b[0m \u001b[1;32min\u001b[0m \u001b[0mrange\u001b[0m\u001b[1;33m(\u001b[0m\u001b[1;36m1\u001b[0m\u001b[1;33m,\u001b[0m\u001b[1;36m20\u001b[0m\u001b[1;33m,\u001b[0m\u001b[1;36m1\u001b[0m\u001b[1;33m)\u001b[0m\u001b[1;33m:\u001b[0m\u001b[1;33m\u001b[0m\u001b[1;33m\u001b[0m\u001b[0m\n",
      "\u001b[1;32m~\\anaconda3\\envs\\name_of_my_env\\lib\\site-packages\\qiskit\\providers\\baseprovider.py\u001b[0m in \u001b[0;36mget_backend\u001b[1;34m(self, name, **kwargs)\u001b[0m\n\u001b[0;32m     42\u001b[0m             \u001b[1;32mraise\u001b[0m \u001b[0mQiskitBackendNotFoundError\u001b[0m\u001b[1;33m(\u001b[0m\u001b[1;34m'More than one backend matches the criteria'\u001b[0m\u001b[1;33m)\u001b[0m\u001b[1;33m\u001b[0m\u001b[1;33m\u001b[0m\u001b[0m\n\u001b[0;32m     43\u001b[0m         \u001b[1;32mif\u001b[0m \u001b[1;32mnot\u001b[0m \u001b[0mbackends\u001b[0m\u001b[1;33m:\u001b[0m\u001b[1;33m\u001b[0m\u001b[1;33m\u001b[0m\u001b[0m\n\u001b[1;32m---> 44\u001b[1;33m             \u001b[1;32mraise\u001b[0m \u001b[0mQiskitBackendNotFoundError\u001b[0m\u001b[1;33m(\u001b[0m\u001b[1;34m'No backend matches the criteria'\u001b[0m\u001b[1;33m)\u001b[0m\u001b[1;33m\u001b[0m\u001b[1;33m\u001b[0m\u001b[0m\n\u001b[0m\u001b[0;32m     45\u001b[0m \u001b[1;33m\u001b[0m\u001b[0m\n\u001b[0;32m     46\u001b[0m         \u001b[1;32mreturn\u001b[0m \u001b[0mbackends\u001b[0m\u001b[1;33m[\u001b[0m\u001b[1;36m0\u001b[0m\u001b[1;33m]\u001b[0m\u001b[1;33m\u001b[0m\u001b[1;33m\u001b[0m\u001b[0m\n",
      "\u001b[1;31mQiskitBackendNotFoundError\u001b[0m: 'No backend matches the criteria'"
     ]
    }
   ],
   "source": [
    "backend = provider.get_backend('ibmq_vigo')\n",
    "for x in range(1,20,1):\n",
    "    print()\n",
    "arr = []\n",
    "for nsh in range(1,20,1):\n",
    "    arr.append([])\n",
    "    for lp in range(1,10,1):\n",
    "        nshot=int(round(1000*(nsh)**1.5,0))\n",
    "        nparam=1000*lp\n",
    "        fidelity=[]    \n",
    "        for x in range(nparam):\n",
    "            qr = QuantumRegister(1)\n",
    "            cr = ClassicalRegister(1)\n",
    "            qc = QuantumCircuit(qr, cr)\n",
    "\n",
    "            u13=UnitaryGate(random_unitary(2))\n",
    "            qc.append(u13, [qr[0]] )\n",
    "            u13=UnitaryGate(random_unitary(2))\n",
    "            qc.append(u13, [qr[0]] )\n",
    "\n",
    "            qc.measure(qr[0],cr[0])\n",
    "            job = execute(qc, backend, shots=nshot)\n",
    "            result = job.result()\n",
    "            count =result.get_counts()\n",
    "\n",
    "            if '0' in count and '1' in count:\n",
    "                ratio=count['0']/nshot\n",
    "            elif '0' in count and '1' not in count:\n",
    "                ratio=count['0']/nshot\n",
    "            else:\n",
    "                ratio=0\n",
    "\n",
    "            fidelity.append(ratio)   \n",
    "            #Kullback Leibler divergence\n",
    "        weights = np.ones_like(fidelity)/float(len(fidelity))            \n",
    "        P_U_hist=np.histogram(fidelity, bins=bins_list, weights=weights, range=[0, 1])[0];\n",
    "        #Kullback Leibler divergence\n",
    "        print(nshot,'shots per simulation',nparam,'distribution size')\n",
    "        arr[nsh-1].append(sum(rel_entr(P_U_hist, P_harr_hist)))\n"
   ]
  },
  {
   "cell_type": "code",
   "execution_count": 9,
   "metadata": {},
   "outputs": [],
   "source": [
    "import sys\n",
    "import numpy\n",
    "qasm=arr\n",
    "numpy.set_printoptions(threshold=sys.maxsize)\n",
    "np.savetxt(\"KLDivg_qasm.txt\",qasm,fmt='%.2f')"
   ]
  },
  {
   "cell_type": "code",
   "execution_count": 11,
   "metadata": {},
   "outputs": [],
   "source": [
    "import random"
   ]
  },
  {
   "cell_type": "code",
   "execution_count": 16,
   "metadata": {},
   "outputs": [
    {
     "name": "stdout",
     "output_type": "stream",
     "text": [
      "1000\n",
      "2828\n",
      "5196\n",
      "8000\n",
      "11180\n",
      "14697\n",
      "18520\n",
      "22627\n",
      "27000\n",
      "31623\n",
      "36483\n",
      "41569\n",
      "46872\n",
      "52383\n",
      "58095\n",
      "64000\n",
      "70093\n",
      "76368\n",
      "82819\n"
     ]
    }
   ],
   "source": [
    "for nsh in range(1,20,1):\n",
    "    print(int(round(1000*(nsh)**1.5,0)))"
   ]
  },
  {
   "cell_type": "markdown",
   "metadata": {},
   "source": [
    "## Arbitary StatevectorSimulator"
   ]
  },
  {
   "cell_type": "code",
   "execution_count": null,
   "metadata": {},
   "outputs": [],
   "source": [
    "backend = Aer.get_backend('statevector_simulator')\n",
    "for x in range(1,20,1):\n",
    "    print()\n",
    "arr = []\n",
    "for nsh in range(1,20,1):\n",
    "    arr.append([])\n",
    "    for lp in range(1,10,1):\n",
    "        nshot=int(round(1000*(nsh)**1.5,0))\n",
    "        nparam=1000*lp\n",
    "        fidelity=[]    \n",
    "        for x in range(nparam):\n",
    "            qr = QuantumRegister(1)\n",
    "            cr = ClassicalRegister(1)\n",
    "            qc = QuantumCircuit(qr, cr)\n",
    "\n",
    "            u13=UnitaryGate(random_unitary(2))\n",
    "            qc.append(u13, [qr[0]] )\n",
    "            u13=UnitaryGate(random_unitary(2))\n",
    "            qc.append(u13, [qr[0]] )\n",
    "\n",
    "            qc.measure(qr[0],cr[0])\n",
    "            job = execute(qc, backend, shots=nshot)\n",
    "            result = job.result()\n",
    "            count =result.get_counts()\n",
    "\n",
    "            if '0' in count and '1' in count:\n",
    "                ratio=count['0']/nshot\n",
    "            elif '0' in count and '1' not in count:\n",
    "                ratio=count['0']/nshot\n",
    "            else:\n",
    "                ratio=0\n",
    "\n",
    "            fidelity.append(ratio)   \n",
    "            #Kullback Leibler divergence\n",
    "        weights = np.ones_like(fidelity)/float(len(fidelity))            \n",
    "        P_U_hist=np.histogram(fidelity, bins=bins_list, weights=weights, range=[0, 1])[0];\n",
    "        #Kullback Leibler divergence\n",
    "        print(nshot,'shots per simulation',nparam,'distribution size')\n",
    "        arr[nsh-1].append(sum(rel_entr(P_U_hist, P_harr_hist)))\n"
   ]
  },
  {
   "cell_type": "code",
   "execution_count": null,
   "metadata": {},
   "outputs": [],
   "source": [
    "import sys\n",
    "import numpy\n",
    "statevector=arr\n",
    "numpy.set_printoptions(threshold=sys.maxsize)\n",
    "np.savetxt(\"KLDivg_statevector.txt\",statevector,fmt='%.2f')"
   ]
  },
  {
   "cell_type": "code",
   "execution_count": null,
   "metadata": {},
   "outputs": [],
   "source": [
    "##Plot"
   ]
  },
  {
   "cell_type": "code",
   "execution_count": null,
   "metadata": {},
   "outputs": [],
   "source": [
    "import pandas as pd\n",
    "import matplotlib.pyplot as plt\n",
    "\n",
    "#loading dataset\n",
    "\n",
    "x = [i+1 for i in range(19)]\n",
    "y = [i[0] for i in arr]\n",
    "plt.plot(x, y, 'o', color='red', label='L=1');\n",
    "x = [i+1 for i in range(19)]\n",
    "y = [i[1] for i in arr]\n",
    "plt.plot(x, y, 'o', color='blue', label='L=2');\n",
    "x = [i+1 for i in range(19)]\n",
    "y = [i[2] for i in arr]\n",
    "plt.plot(x, y, 'o', color='black', label='L=3');\n",
    "x = [i+1 for i in range(19)]\n",
    "y = [i[3] for i in arr]\n",
    "plt.plot(x, y, 'o', color='green', label='L=4');\n",
    "x = [i+1 for i in range(19)]\n",
    "y = [i[3] for i in arr]\n",
    "plt.plot(x, y, 'o', color='purple', label='L=5');\n",
    "plt.legend(loc='upper right')\n",
    "\n",
    "plt.yscale('log',base=10) \n",
    "plt.xlabel('Circuit ID')\n",
    "plt.ylabel('Expressibility')\n",
    "\n",
    "# Create names on the x axis\n",
    "plt.xticks([i+1 for i in range(19)])\n",
    "plt.show()"
   ]
  }
 ],
 "metadata": {
  "kernelspec": {
   "display_name": "Python 3",
   "language": "python",
   "name": "python3"
  },
  "language_info": {
   "codemirror_mode": {
    "name": "ipython",
    "version": 3
   },
   "file_extension": ".py",
   "mimetype": "text/x-python",
   "name": "python",
   "nbconvert_exporter": "python",
   "pygments_lexer": "ipython3",
   "version": "3.8.5"
  }
 },
 "nbformat": 4,
 "nbformat_minor": 4
}