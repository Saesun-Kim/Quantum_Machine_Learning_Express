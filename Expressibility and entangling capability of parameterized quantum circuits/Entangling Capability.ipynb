{
 "cells": [
  {
   "cell_type": "code",
   "execution_count": 94,
   "metadata": {},
   "outputs": [],
   "source": [
    "from qiskit import *\n",
    "from qiskit import QuantumRegister, ClassicalRegister, QuantumCircuit\n",
    "from qiskit import IBMQ, Aer, execute,assemble,QuantumCircuit, aqua\n",
    "from qiskit.visualization import plot_histogram, plot_bloch_vector, plot_bloch_multivector\n",
    "from qiskit.quantum_info import Statevector\n",
    "from qiskit.extensions import *\n",
    "\n",
    "import matplotlib.pyplot as plt\n",
    "%matplotlib inline\n",
    "import numpy as np\n",
    "import math\n",
    "from math import pi, sqrt\n",
    "\n",
    "from qiskit.quantum_info import random_unitary\n",
    "\n",
    "from random import seed\n",
    "from random import random\n",
    "import cmath\n",
    "\n",
    "from qiskit.circuit import Parameter\n",
    "\n",
    "import numpy as np\n",
    "import scipy.linalg as la\n",
    "from qiskit.exceptions import QiskitError\n",
    "from qiskit.quantum_info.states.densitymatrix import DensityMatrix, Statevector\n",
    "from qiskit.quantum_info.states.utils import (partial_trace, shannon_entropy,_format_state, _funm_svd, partial_trace)\n",
    "from qiskit.quantum_info.states.measures import partial_trace, _format_state"
   ]
  },
  {
   "cell_type": "markdown",
   "metadata": {},
   "source": [
    "$$\\begin{align*}\n",
    "Q(|\\psi_{\\mathbf{x}}\\rangle) = 2(1-\\frac{1}{n}*\\sum_{k=0}^{n}Tr[\\rho_k^2]\n",
    "\\end{align*}$$"
   ]
  },
  {
   "cell_type": "code",
   "execution_count": 95,
   "metadata": {},
   "outputs": [
    {
     "name": "stdout",
     "output_type": "stream",
     "text": [
      "DensityMatrix([[0.5+0.j, 0. +0.j],\n",
      "               [0. +0.j, 0.5+0.j]],\n",
      "              dims=(2,))\n",
      "DensityMatrix([[0.5+0.j, 0. +0.j],\n",
      "               [0. +0.j, 0.5+0.j]],\n",
      "              dims=(2,))\n"
     ]
    }
   ],
   "source": [
    "qr = QuantumRegister(2)\n",
    "qc = QuantumCircuit(qr)\n",
    "\n",
    "qc.h(qr[0])\n",
    "qc.h(qr[1])\n",
    "qc.cz(qr[0],qr[1])\n",
    "\n",
    "svsim = Aer.get_backend('statevector_simulator')\n",
    "qobj = assemble(qc)\n",
    "\n",
    "state = svsim.run(qobj).result().get_statevector()\n",
    "\n",
    "dm=DensityMatrix(state)\n",
    "dm_p1=partial_trace(dm,[0])\n",
    "dm_p2=partial_trace(dm,[1])\n",
    "\n",
    "print(dm_p1)\n",
    "print(dm_p1)"
   ]
  },
  {
   "cell_type": "code",
   "execution_count": 96,
   "metadata": {},
   "outputs": [
    {
     "data": {
      "text/plain": [
       "(1+0j)"
      ]
     },
     "execution_count": 96,
     "metadata": {},
     "output_type": "execute_result"
    }
   ],
   "source": [
    "# how to extract the from class?\n",
    "dm_p1c=[[0.5+0.j, 0. +0.j],[0. +0.j, 0.5+0.j]]\n",
    "dm_p2c=[[0.5+0.j, 0. +0.j],[0. +0.j, 0.5+0.j]]\n",
    "\n",
    "p1=(1/2)*np.dot(dm_p1c,dm_p1c).trace()\n",
    "p2=(1/2)*np.dot(dm_p1c,dm_p1c).trace()\n",
    "2*(1-(p1+p2))"
   ]
  },
  {
   "cell_type": "code",
   "execution_count": 97,
   "metadata": {},
   "outputs": [
    {
     "name": "stdout",
     "output_type": "stream",
     "text": [
      "DensityMatrix([[0.5+0.j, 0.5+0.j],\n",
      "               [0.5+0.j, 0.5+0.j]],\n",
      "              dims=(2,))\n",
      "DensityMatrix([[0.5+0.j, 0.5+0.j],\n",
      "               [0.5+0.j, 0.5+0.j]],\n",
      "              dims=(2,))\n"
     ]
    }
   ],
   "source": [
    "qr = QuantumRegister(2)\n",
    "qc = QuantumCircuit(qr)\n",
    "\n",
    "qc.h(qr[0])\n",
    "qc.h(qr[1])\n",
    "\n",
    "svsim = Aer.get_backend('statevector_simulator')\n",
    "qobj = assemble(qc)\n",
    "\n",
    "state = svsim.run(qobj).result().get_statevector()\n",
    "\n",
    "dm=DensityMatrix(state)\n",
    "dm_p1=partial_trace(dm,[0])\n",
    "dm_p2=partial_trace(dm,[1])\n",
    "print(dm_p1)\n",
    "print(dm_p1)\n"
   ]
  },
  {
   "cell_type": "code",
   "execution_count": 98,
   "metadata": {},
   "outputs": [
    {
     "data": {
      "text/plain": [
       "0j"
      ]
     },
     "execution_count": 98,
     "metadata": {},
     "output_type": "execute_result"
    }
   ],
   "source": [
    "dm_p1c=[[0.5+0.j, 0.5+0.j],\n",
    "               [0.5+0.j, 0.5+0.j]]\n",
    "dm_p2c=[[0.5+0.j, 0.5+0.j],\n",
    "               [0.5+0.j, 0.5+0.j]]\n",
    "\n",
    "p1=(1/2)*np.dot(dm_p1c,dm_p1c).trace()\n",
    "p2=(1/2)*np.dot(dm_p1c,dm_p1c).trace()\n",
    "2*(1-(p1+p2))"
   ]
  },
  {
   "cell_type": "code",
   "execution_count": 100,
   "metadata": {},
   "outputs": [
    {
     "data": {
      "text/plain": [
       "array([[0.5+0.j, 0.5+0.j],\n",
       "       [0.5+0.j, 0.5+0.j]])"
      ]
     },
     "execution_count": 100,
     "metadata": {},
     "output_type": "execute_result"
    }
   ],
   "source": [
    "dm_p2.to_operator().data"
   ]
  },
  {
   "cell_type": "code",
   "execution_count": null,
   "metadata": {},
   "outputs": [],
   "source": []
  }
 ],
 "metadata": {
  "kernelspec": {
   "display_name": "Python 3",
   "language": "python",
   "name": "python3"
  },
  "language_info": {
   "codemirror_mode": {
    "name": "ipython",
    "version": 3
   },
   "file_extension": ".py",
   "mimetype": "text/x-python",
   "name": "python",
   "nbconvert_exporter": "python",
   "pygments_lexer": "ipython3",
   "version": "3.8.5"
  }
 },
 "nbformat": 4,
 "nbformat_minor": 4
}
