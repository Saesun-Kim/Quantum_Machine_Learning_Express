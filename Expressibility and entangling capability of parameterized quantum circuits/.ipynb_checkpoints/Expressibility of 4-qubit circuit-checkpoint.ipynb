{
 "cells": [
  {
   "cell_type": "code",
   "execution_count": 2,
   "metadata": {},
   "outputs": [
    {
     "name": "stderr",
     "output_type": "stream",
     "text": [
      "C:\\Users\\Saesun Kim\\anaconda3\\envs\\name_of_my_env\\lib\\site-packages\\qiskit\\providers\\ibmq\\ibmqfactory.py:192: UserWarning: Timestamps in IBMQ backend properties, jobs, and job results are all now in local time instead of UTC.\n",
      "  warnings.warn('Timestamps in IBMQ backend properties, jobs, and job results '\n"
     ]
    }
   ],
   "source": [
    "from qiskit import *\n",
    "from qiskit import QuantumRegister, ClassicalRegister, QuantumCircuit\n",
    "from qiskit import IBMQ, Aer, execute,assemble,QuantumCircuit, aqua\n",
    "from qiskit.visualization import plot_histogram, plot_bloch_vector, plot_bloch_multivector\n",
    "from qiskit.quantum_info import Statevector\n",
    "from qiskit.extensions import *\n",
    "provider = IBMQ.load_account()\n",
    "\n",
    "from qiskit.quantum_info import random_unitary\n",
    "\n",
    "import matplotlib.pyplot as plt\n",
    "%matplotlib inline\n",
    "import numpy as np\n",
    "import math\n",
    "from math import pi, sqrt\n",
    "\n",
    "from random import seed\n",
    "from random import random\n",
    "import cmath\n",
    "\n",
    "from qiskit.circuit import Parameter"
   ]
  },
  {
   "cell_type": "code",
   "execution_count": 3,
   "metadata": {},
   "outputs": [
    {
     "data": {
      "image/png": "[encoded data removed]",
      "text/plain": [
       "<Figure size 432x288 with 1 Axes>"
      ]
     },
     "metadata": {
      "needs_background": "light"
     },
     "output_type": "display_data"
    }
   ],
   "source": [
    "backend = Aer.get_backend('qasm_simulator')\n",
    "nshot=1000\n",
    "nparam=2000\n",
    "fedelity=[]    \n",
    "for x in range(nparam):\n",
    "    \n",
    "    theta=[]\n",
    "    for y in range(30):\n",
    "        theta.append(2*pi*random())\n",
    "    \n",
    "    \n",
    "           \n",
    "    qr = QuantumRegister(4)\n",
    "    cr = ClassicalRegister(4)\n",
    "    qc = QuantumCircuit(qr, cr)\n",
    "    \n",
    "    \n",
    "    \n",
    "    count=0\n",
    "    \n",
    "    for i in range(4):\n",
    "        qc.rx(theta[count],qr[i])\n",
    "        count=count+1\n",
    "    \n",
    "    for i in range(4):\n",
    "        qc.rz(theta[count],qr[i])\n",
    "        count=count+1\n",
    "    \n",
    "\n",
    "    qc.crx(theta[count],qr[3],qr[0])\n",
    "    count=count+1\n",
    "    qc.crx(theta[count],qr[2],qr[3])\n",
    "    count=count+1\n",
    "    qc.crx(theta[count],qr[1],qr[2])\n",
    "    count=count+1\n",
    "    qc.crx(theta[count],qr[0],qr[1])\n",
    "    count=count+1\n",
    "    \n",
    "    qc.crx(theta[count],qr[0],qr[1])\n",
    "    count=count+1\n",
    "    qc.crx(theta[count],qr[1],qr[2])\n",
    "    count=count+1\n",
    "    qc.crx(theta[count],qr[2],qr[3])\n",
    "    count=count+1\n",
    "    qc.crx(theta[count],qr[3],qr[0])\n",
    "    count=count+1\n",
    "    \n",
    "    for i in range(4):\n",
    "        qc.rz(theta[count],qr[i])\n",
    "        count=count+1\n",
    "    \n",
    "    for i in range(4):\n",
    "        qc.rx(theta[count],qr[i])\n",
    "        count=count+1\n",
    "    \n",
    "    \n",
    "    \n",
    "    \n",
    "    qc.measure(qr[:],cr[:])\n",
    "    job = execute(qc, backend, shots=nshot)\n",
    "    result = job.result()\n",
    "    count =result.get_counts()\n",
    "\n",
    "    if '0000' in count and '1' in count:\n",
    "        ratio=count['0000']/nshot\n",
    "    elif '0000' in count and '1' not in count:\n",
    "        ratio=count['0000']/nshot\n",
    "    else:\n",
    "        ratio=0\n",
    "    \n",
    "    fedelity.append(ratio)\n",
    "    \n",
    "weights = np.ones_like(fedelity)/float(len(fedelity))\n",
    "plt.hist(fedelity, bins=75, weights=weights)\n",
    "plt.show()"
   ]
  },
  {
   "cell_type": "code",
   "execution_count": 4,
   "metadata": {},
   "outputs": [
    {
     "data": {
      "image/png": "[encoded data removed]",
      "text/plain": [
       "<Figure size 432x288 with 1 Axes>"
      ]
     },
     "metadata": {
      "needs_background": "light"
     },
     "output_type": "display_data"
    }
   ],
   "source": [
    "F_harr=[]\n",
    "for i in range(75):\n",
    "    F_harr.append(((16-1)*((1-i/75)**(16-2)))/75)\n",
    "\n",
    "plt.plot(F_harr)\n",
    "plt.ylabel('Fedelity')\n",
    "plt.show()"
   ]
  },
  {
   "cell_type": "code",
   "execution_count": 5,
   "metadata": {},
   "outputs": [
    {
     "name": "stderr",
     "output_type": "stream",
     "text": [
      "<ipython-input-5-aaccba08a23d>:3: RuntimeWarning: divide by zero encountered in log\n",
      "  sum(P_19*np.log(P_19/F_harr))\n",
      "<ipython-input-5-aaccba08a23d>:3: RuntimeWarning: invalid value encountered in multiply\n",
      "  sum(P_19*np.log(P_19/F_harr))\n"
     ]
    },
    {
     "data": {
      "text/plain": [
       "nan"
      ]
     },
     "execution_count": 5,
     "metadata": {},
     "output_type": "execute_result"
    }
   ],
   "source": [
    "#Kullback Leibler divergence\n",
    "P_19=np.histogram(fedelity, bins=75, weights=weights, range=[0, 1])[0]\n",
    "sum(P_19*np.log(P_19/F_harr))"
   ]
  },
  {
   "cell_type": "code",
   "execution_count": null,
   "metadata": {},
   "outputs": [],
   "source": []
  }
 ],
 "metadata": {
  "kernelspec": {
   "display_name": "Python 3",
   "language": "python",
   "name": "python3"
  },
  "language_info": {
   "codemirror_mode": {
    "name": "ipython",
    "version": 3
   },
   "file_extension": ".py",
   "mimetype": "text/x-python",
   "name": "python",
   "nbconvert_exporter": "python",
   "pygments_lexer": "ipython3",
   "version": "3.8.5"
  }
 },
 "nbformat": 4,
 "nbformat_minor": 4
}
