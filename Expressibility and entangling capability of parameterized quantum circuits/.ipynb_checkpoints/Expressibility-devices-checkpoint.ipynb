{
 "cells": [
  {
   "cell_type": "markdown",
   "metadata": {},
   "source": [
    "# Understand the behavior of number of the shots and simulator\n",
    "\n",
    "Since the number of the shots from the simulator play role in the accuracy and the expressibilty, we want to further study the effect of the those parameters. \n",
    "\n",
    "In this document, we will only focus on the arbitary circuit since it should give identical result with the harr distribution."
   ]
  },
  {
   "cell_type": "code",
   "execution_count": 45,
   "metadata": {},
   "outputs": [
    {
     "name": "stderr",
     "output_type": "stream",
     "text": [
      "C:\\Users\\Saesun Kim\\anaconda3\\envs\\name_of_my_env\\lib\\site-packages\\qiskit\\providers\\ibmq\\ibmqfactory.py:192: UserWarning: Timestamps in IBMQ backend properties, jobs, and job results are all now in local time instead of UTC.\n",
      "  warnings.warn('Timestamps in IBMQ backend properties, jobs, and job results '\n",
      "ibmqfactory.load_account:WARNING:2021-03-21 00:35:02,909: Credentials are already in use. The existing account in the session will be replaced.\n"
     ]
    }
   ],
   "source": [
    "from matplotlib import pyplot\n",
    "from qiskit import *\n",
    "from qiskit import QuantumRegister, ClassicalRegister, QuantumCircuit\n",
    "from qiskit import IBMQ, Aer, execute,assemble,QuantumCircuit, aqua\n",
    "from qiskit.visualization import plot_histogram, plot_bloch_vector, plot_bloch_multivector\n",
    "from qiskit.quantum_info import Statevector\n",
    "from qiskit.extensions import *\n",
    "provider = IBMQ.load_account()\n",
    "\n",
    "from qiskit.quantum_info import random_unitary\n",
    "from qiskit.providers.aer import QasmSimulator, StatevectorSimulator, UnitarySimulator\n",
    "import matplotlib.pyplot as plt\n",
    "%matplotlib inline\n",
    "import numpy as np\n",
    "import math\n",
    "from math import pi, sqrt\n",
    "\n",
    "from scipy.special import rel_entr\n",
    "from random import seed\n",
    "from random import random\n",
    "import cmath"
   ]
  },
  {
   "cell_type": "code",
   "execution_count": 46,
   "metadata": {},
   "outputs": [],
   "source": [
    "\n",
    "#Possible Bin\n",
    "bins_list=[];\n",
    "for i in range(76):\n",
    "    bins_list.append((i)/75)\n",
    "#Center of the Bean\n",
    "bins_x=[]    \n",
    "for i in range(75):\n",
    "    bins_x.append(bins_list[1]+bins_list[i])\n",
    "def P_harr(l,u,N):\n",
    "    return (1-l)**(N-1)-(1-u)**(N-1)\n",
    "#Harr historgram\n",
    "P_harr_hist=[]\n",
    "for i in range(75):\n",
    "    P_harr_hist.append(P_harr(bins_list[i],bins_list[i+1],2))    \n",
    "#Imaginary    \n",
    "j=(-1)**(1/2)"
   ]
  },
  {
   "cell_type": "markdown",
   "metadata": {},
   "source": [
    "## Arbitary Unitary Qasm_simulator"
   ]
  },
  {
   "cell_type": "code",
   "execution_count": null,
   "metadata": {},
   "outputs": [
    {
     "name": "stdout",
     "output_type": "stream",
     "text": [
      "\n",
      "\n",
      "\n",
      "\n",
      "\n",
      "\n",
      "\n",
      "\n",
      "\n",
      "\n",
      "\n",
      "\n",
      "\n",
      "\n",
      "\n",
      "\n",
      "\n",
      "\n",
      "\n",
      "1000 shots per simulation 1000 distribution size\n",
      "1000 shots per simulation 2000 distribution size\n",
      "1000 shots per simulation 3000 distribution size\n",
      "1000 shots per simulation 4000 distribution size\n",
      "1000 shots per simulation 5000 distribution size\n",
      "1000 shots per simulation 6000 distribution size\n",
      "1000 shots per simulation 7000 distribution size\n"
     ]
    }
   ],
   "source": [
    "backend = Aer.get_backend('qasm_simulator')\n",
    "for x in range(1,20,1):\n",
    "    print()\n",
    "arr = []\n",
    "for nsh in range(1,20,1):\n",
    "    arr.append([])\n",
    "    for lp in range(1,10,1):\n",
    "        nshot=int(round(1000*(nsh)**1.5,0))\n",
    "        nparam=1000*lp\n",
    "        fidelity=[]    \n",
    "        for x in range(nparam):\n",
    "            qr = QuantumRegister(1)\n",
    "            cr = ClassicalRegister(1)\n",
    "            qc = QuantumCircuit(qr, cr)\n",
    "\n",
    "            u13=UnitaryGate(random_unitary(2))\n",
    "            qc.append(u13, [qr[0]] )\n",
    "            u13=UnitaryGate(random_unitary(2))\n",
    "            qc.append(u13, [qr[0]] )\n",
    "\n",
    "            qc.measure(qr[0],cr[0])\n",
    "            job = execute(qc, backend, shots=nshot)\n",
    "            result = job.result()\n",
    "            count =result.get_counts()\n",
    "\n",
    "            if '0' in count and '1' in count:\n",
    "                ratio=count['0']/nshot\n",
    "            elif '0' in count and '1' not in count:\n",
    "                ratio=count['0']/nshot\n",
    "            else:\n",
    "                ratio=0\n",
    "\n",
    "            fidelity.append(ratio)   \n",
    "            #Kullback Leibler divergence\n",
    "        weights = np.ones_like(fidelity)/float(len(fidelity))            \n",
    "        P_U_hist=np.histogram(fidelity, bins=bins_list, weights=weights, range=[0, 1])[0];\n",
    "        #Kullback Leibler divergence\n",
    "        print(nshot,'shots per simulation',nparam,'distribution size')\n",
    "        arr[nsh-1].append(sum(rel_entr(P_U_hist, P_harr_hist)))\n"
   ]
  },
  {
   "cell_type": "code",
   "execution_count": null,
   "metadata": {},
   "outputs": [],
   "source": [
    "import sys\n",
    "import numpy\n",
    "qasm=arr\n",
    "numpy.set_printoptions(threshold=sys.maxsize)\n",
    "np.savetxt(\"KLDivg_qasm.txt\",qasm,fmt='%.2f')"
   ]
  },
  {
   "cell_type": "markdown",
   "metadata": {},
   "source": [
    "## Arbitary StatevectorSimulator"
   ]
  },
  {
   "cell_type": "code",
   "execution_count": null,
   "metadata": {},
   "outputs": [],
   "source": [
    "backend = Aer.get_backend('statevector_simulator')\n",
    "for x in range(1,20,1):\n",
    "    print()\n",
    "arr = []\n",
    "for nsh in range(1,20,1):\n",
    "    arr.append([])\n",
    "    for lp in range(1,10,1):\n",
    "        nshot=int(round(1000*(nsh)**1.5,0))\n",
    "        nparam=1000*lp\n",
    "        fidelity=[]    \n",
    "        for x in range(nparam):\n",
    "            qr = QuantumRegister(1)\n",
    "            cr = ClassicalRegister(1)\n",
    "            qc = QuantumCircuit(qr, cr)\n",
    "\n",
    "            u13=UnitaryGate(random_unitary(2))\n",
    "            qc.append(u13, [qr[0]] )\n",
    "            u13=UnitaryGate(random_unitary(2))\n",
    "            qc.append(u13, [qr[0]] )\n",
    "\n",
    "            qc.measure(qr[0],cr[0])\n",
    "            job = execute(qc, backend, shots=nshot)\n",
    "            result = job.result()\n",
    "            count =result.get_counts()\n",
    "\n",
    "            if '0' in count and '1' in count:\n",
    "                ratio=count['0']/nshot\n",
    "            elif '0' in count and '1' not in count:\n",
    "                ratio=count['0']/nshot\n",
    "            else:\n",
    "                ratio=0\n",
    "\n",
    "            fidelity.append(ratio)   \n",
    "            #Kullback Leibler divergence\n",
    "        weights = np.ones_like(fidelity)/float(len(fidelity))            \n",
    "        P_U_hist=np.histogram(fidelity, bins=bins_list, weights=weights, range=[0, 1])[0];\n",
    "        #Kullback Leibler divergence\n",
    "        print(nshot,'shots per simulation',nparam,'distribution size')\n",
    "        arr[nsh-1].append(sum(rel_entr(P_U_hist, P_harr_hist)))\n"
   ]
  },
  {
   "cell_type": "code",
   "execution_count": null,
   "metadata": {},
   "outputs": [],
   "source": [
    "import sys\n",
    "import numpy\n",
    "statevector=arr\n",
    "numpy.set_printoptions(threshold=sys.maxsize)\n",
    "np.savetxt(\"KLDivg_statevector.txt\",statevector,fmt='%.2f')"
   ]
  },
  {
   "cell_type": "code",
   "execution_count": null,
   "metadata": {},
   "outputs": [],
   "source": [
    "##Plot"
   ]
  },
  {
   "cell_type": "code",
   "execution_count": null,
   "metadata": {},
   "outputs": [],
   "source": [
    "import pandas as pd\n",
    "import matplotlib.pyplot as plt\n",
    "\n",
    "#loading dataset\n",
    "\n",
    "x = [i+1 for i in range(19)]\n",
    "y = [i[0] for i in arr]\n",
    "plt.plot(x, y, 'o', color='red', label='L=1');\n",
    "x = [i+1 for i in range(19)]\n",
    "y = [i[1] for i in arr]\n",
    "plt.plot(x, y, 'o', color='blue', label='L=2');\n",
    "x = [i+1 for i in range(19)]\n",
    "y = [i[2] for i in arr]\n",
    "plt.plot(x, y, 'o', color='black', label='L=3');\n",
    "x = [i+1 for i in range(19)]\n",
    "y = [i[3] for i in arr]\n",
    "plt.plot(x, y, 'o', color='green', label='L=4');\n",
    "x = [i+1 for i in range(19)]\n",
    "y = [i[3] for i in arr]\n",
    "plt.plot(x, y, 'o', color='purple', label='L=5');\n",
    "plt.legend(loc='upper right')\n",
    "\n",
    "plt.yscale('log',base=10) \n",
    "plt.xlabel('Circuit ID')\n",
    "plt.ylabel('Expressibility')\n",
    "\n",
    "# Create names on the x axis\n",
    "plt.xticks([i+1 for i in range(19)])\n",
    "plt.show()"
   ]
  }
 ],
 "metadata": {
  "kernelspec": {
   "display_name": "Python 3",
   "language": "python",
   "name": "python3"
  },
  "language_info": {
   "codemirror_mode": {
    "name": "ipython",
    "version": 3
   },
   "file_extension": ".py",
   "mimetype": "text/x-python",
   "name": "python",
   "nbconvert_exporter": "python",
   "pygments_lexer": "ipython3",
   "version": "3.8.5"
  }
 },
 "nbformat": 4,
 "nbformat_minor": 4
}
