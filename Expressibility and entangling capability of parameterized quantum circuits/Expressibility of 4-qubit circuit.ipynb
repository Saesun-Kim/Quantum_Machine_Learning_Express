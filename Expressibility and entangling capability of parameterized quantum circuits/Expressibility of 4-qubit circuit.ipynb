{
 "cells": [
  {
   "cell_type": "code",
   "execution_count": 2,
   "metadata": {},
   "outputs": [
    {
     "name": "stderr",
     "output_type": "stream",
     "text": [
      "C:\\Users\\Saesun Kim\\anaconda3\\envs\\name_of_my_env\\lib\\site-packages\\qiskit\\providers\\ibmq\\ibmqfactory.py:192: UserWarning: Timestamps in IBMQ backend properties, jobs, and job results are all now in local time instead of UTC.\n",
      "  warnings.warn('Timestamps in IBMQ backend properties, jobs, and job results '\n"
     ]
    }
   ],
   "source": [
    "from qiskit import *\n",
    "from qiskit import QuantumRegister, ClassicalRegister, QuantumCircuit\n",
    "from qiskit import IBMQ, Aer, execute,assemble,QuantumCircuit, aqua\n",
    "from qiskit.visualization import plot_histogram, plot_bloch_vector, plot_bloch_multivector\n",
    "from qiskit.quantum_info import Statevector\n",
    "from qiskit.extensions import *\n",
    "provider = IBMQ.load_account()\n",
    "\n",
    "from qiskit.quantum_info import random_unitary\n",
    "\n",
    "import matplotlib.pyplot as plt\n",
    "%matplotlib inline\n",
    "import numpy as np\n",
    "import math\n",
    "from math import pi, sqrt\n",
    "\n",
    "from random import seed\n",
    "from random import random\n",
    "import cmath\n",
    "\n",
    "from qiskit.circuit import Parameter"
   ]
  },
  {
   "cell_type": "code",
   "execution_count": 3,
   "metadata": {},
   "outputs": [
    {
     "data": {
      "image/png": "[encoded data removed]",
      "text/plain": [
       "<Figure size 520.978x264.88 with 1 Axes>"
      ]
     },
     "execution_count": 3,
     "metadata": {},
     "output_type": "execute_result"
    }
   ],
   "source": [
    "#circuit 19\n",
    "\n",
    "qr = QuantumRegister(4)\n",
    "qc = QuantumCircuit(qr)\n",
    "\n",
    "theta=[]\n",
    "for i in range(28):\n",
    "    theta.append((Parameter('θ'+str(i))))\n",
    "count=0\n",
    "    \n",
    "for i in range(4):\n",
    "    qc.rx(theta[count],qr[i])\n",
    "    count=count+1\n",
    "    \n",
    "for i in range(4):\n",
    "    qc.rz(theta[count],qr[i])\n",
    "    count=count+1\n",
    "    \n",
    "qc.barrier(qr)    \n",
    "\n",
    "qc.crx(theta[count],qr[3],qr[0])\n",
    "count=count+1\n",
    "qc.crx(theta[count],qr[2],qr[3])\n",
    "count=count+1\n",
    "qc.crx(theta[count],qr[1],qr[2])\n",
    "count=count+1\n",
    "qc.crx(theta[count],qr[0],qr[1])\n",
    "\n",
    "\n",
    "qc.draw('mpl')"
   ]
  },
  {
   "cell_type": "code",
   "execution_count": 13,
   "metadata": {},
   "outputs": [
    {
     "data": {
      "image/png": "[encoded data removed]",
      "text/plain": [
       "<Figure size 432x288 with 1 Axes>"
      ]
     },
     "metadata": {
      "needs_background": "light"
     },
     "output_type": "display_data"
    }
   ],
   "source": [
    "backend = Aer.get_backend('qasm_simulator')\n",
    "nshot=1000\n",
    "nparam=2000\n",
    "fedelity=[]    \n",
    "for x in range(nparam):\n",
    "    \n",
    "    theta=[]\n",
    "    for y in range(30):\n",
    "        theta.append(2*pi*random())\n",
    "    \n",
    "    \n",
    "           \n",
    "    qr = QuantumRegister(4)\n",
    "    cr = ClassicalRegister(4)\n",
    "    qc = QuantumCircuit(qr, cr)\n",
    "    \n",
    "    \n",
    "    \n",
    "    count=0\n",
    "    \n",
    "    for i in range(4):\n",
    "        qc.rx(theta[count],qr[i])\n",
    "        count=count+1\n",
    "    \n",
    "    for i in range(4):\n",
    "        qc.rz(theta[count],qr[i])\n",
    "        count=count+1\n",
    "    \n",
    "\n",
    "    qc.crx(theta[count],qr[3],qr[0])\n",
    "    count=count+1\n",
    "    qc.crx(theta[count],qr[2],qr[3])\n",
    "    count=count+1\n",
    "    qc.crx(theta[count],qr[1],qr[2])\n",
    "    count=count+1\n",
    "    qc.crx(theta[count],qr[0],qr[1])\n",
    "    count=count+1\n",
    "    \n",
    "    qc.crx(theta[count],qr[0],qr[1])\n",
    "    count=count+1\n",
    "    qc.crx(theta[count],qr[1],qr[2])\n",
    "    count=count+1\n",
    "    qc.crx(theta[count],qr[2],qr[3])\n",
    "    count=count+1\n",
    "    qc.crx(theta[count],qr[3],qr[0])\n",
    "    count=count+1\n",
    "    \n",
    "    for i in range(4):\n",
    "        qc.rz(theta[count],qr[i])\n",
    "        count=count+1\n",
    "    \n",
    "    for i in range(4):\n",
    "        qc.rx(theta[count],qr[i])\n",
    "        count=count+1\n",
    "    \n",
    "    \n",
    "    \n",
    "    \n",
    "    qc.measure(qr[:],cr[:])\n",
    "    job = execute(qc, backend, shots=nshot)\n",
    "    result = job.result()\n",
    "    count =result.get_counts()\n",
    "\n",
    "    if '0000' in count and '1' in count:\n",
    "        ratio=count['0000']/nshot\n",
    "    elif '0000' in count and '1' not in count:\n",
    "        ratio=count['0000']/nshot\n",
    "    else:\n",
    "        ratio=0\n",
    "    \n",
    "    fedelity.append(ratio)\n",
    "    \n",
    "weights = np.ones_like(fedelity)/float(len(fedelity))\n",
    "plt.hist(fedelity, bins=75, weights=weights, range=[0, 1])\n",
    "plt.xlabel('Fedelity')\n",
    "plt.show()"
   ]
  },
  {
   "cell_type": "code",
   "execution_count": 12,
   "metadata": {},
   "outputs": [
    {
     "data": {
      "image/png": "[encoded data removed]",
      "text/plain": [
       "<Figure size 432x288 with 1 Axes>"
      ]
     },
     "metadata": {
      "needs_background": "light"
     },
     "output_type": "display_data"
    }
   ],
   "source": [
    "F_harr=[]\n",
    "x_harr=[]\n",
    "for i in range(75):\n",
    "    x_harr.append(i/75)\n",
    "    F_harr.append(((16-1)*((1-i/75)**(16-2)))/75)\n",
    "\n",
    "plt.plot(x_harr,F_harr)\n",
    "plt.xlabel('Fedelity')\n",
    "plt.show()"
   ]
  },
  {
   "cell_type": "code",
   "execution_count": 5,
   "metadata": {},
   "outputs": [
    {
     "name": "stderr",
     "output_type": "stream",
     "text": [
      "<ipython-input-5-aaccba08a23d>:3: RuntimeWarning: divide by zero encountered in log\n",
      "  sum(P_19*np.log(P_19/F_harr))\n",
      "<ipython-input-5-aaccba08a23d>:3: RuntimeWarning: invalid value encountered in multiply\n",
      "  sum(P_19*np.log(P_19/F_harr))\n"
     ]
    },
    {
     "data": {
      "text/plain": [
       "nan"
      ]
     },
     "execution_count": 5,
     "metadata": {},
     "output_type": "execute_result"
    }
   ],
   "source": [
    "#Kullback Leibler divergence\n",
    "P_19=np.histogram(fedelity, bins=75, weights=weights, range=[0, 1])[0]\n",
    "sum(P_19*np.log(P_19/F_harr))"
   ]
  },
  {
   "cell_type": "code",
   "execution_count": 9,
   "metadata": {},
   "outputs": [
    {
     "data": {
      "text/plain": [
       "array([1.40000000e+00, 9.23155893e-01, 7.81072645e-01, 7.79211609e-01,\n",
       "       6.08498144e-01, 5.38566069e-01, 6.26621120e-01, 7.39152724e-01,\n",
       "       7.27615109e-01, 6.28683249e-01, 7.78502468e-01, 9.67224638e-01,\n",
       "       6.31615363e-01, 7.54281295e-01, 1.08240863e+00, 1.13686838e+00,\n",
       "       1.29461918e+00, 1.82740909e+00, 1.74840072e+00, 1.04535393e+00,\n",
       "       2.30622295e+00, 2.23628715e+00, 2.25961038e+00, 2.10727342e+00,\n",
       "       1.10622948e+00, 1.45964630e+00, 2.90518525e+00, 5.16987883e+00,\n",
       "       6.94204903e+00, 7.03573231e+00, 6.38046747e+00, 8.73957314e+00,\n",
       "       0.00000000e+00, 8.38122752e+00, 0.00000000e+00, 1.65942572e+01,\n",
       "       7.09601382e+01, 3.40272885e+01, 0.00000000e+00, 0.00000000e+00,\n",
       "       0.00000000e+00, 0.00000000e+00, 0.00000000e+00, 3.77309725e+02,\n",
       "       0.00000000e+00, 9.31322575e+02, 0.00000000e+00, 0.00000000e+00,\n",
       "       0.00000000e+00, 0.00000000e+00, 0.00000000e+00, 0.00000000e+00,\n",
       "       0.00000000e+00, 0.00000000e+00, 0.00000000e+00, 0.00000000e+00,\n",
       "       0.00000000e+00, 0.00000000e+00, 0.00000000e+00, 0.00000000e+00,\n",
       "       0.00000000e+00, 0.00000000e+00, 0.00000000e+00, 0.00000000e+00,\n",
       "       0.00000000e+00, 0.00000000e+00, 0.00000000e+00, 0.00000000e+00,\n",
       "       0.00000000e+00, 0.00000000e+00, 0.00000000e+00, 0.00000000e+00,\n",
       "       0.00000000e+00, 0.00000000e+00, 0.00000000e+00])"
      ]
     },
     "execution_count": 9,
     "metadata": {},
     "output_type": "execute_result"
    }
   ],
   "source": [
    "P_19/F_harr"
   ]
  },
  {
   "cell_type": "code",
   "execution_count": 10,
   "metadata": {},
   "outputs": [
    {
     "data": {
      "text/plain": [
       "array([0.28  , 0.153 , 0.107 , 0.088 , 0.0565, 0.041 , 0.039 , 0.0375,\n",
       "       0.03  , 0.021 , 0.021 , 0.021 , 0.011 , 0.0105, 0.012 , 0.01  ,\n",
       "       0.009 , 0.01  , 0.0075, 0.0035, 0.006 , 0.0045, 0.0035, 0.0025,\n",
       "       0.001 , 0.001 , 0.0015, 0.002 , 0.002 , 0.0015, 0.001 , 0.001 ,\n",
       "       0.    , 0.0005, 0.    , 0.0005, 0.0015, 0.0005, 0.    , 0.    ,\n",
       "       0.    , 0.    , 0.    , 0.0005, 0.    , 0.0005, 0.    , 0.    ,\n",
       "       0.    , 0.    , 0.    , 0.    , 0.    , 0.    , 0.    , 0.    ,\n",
       "       0.    , 0.    , 0.    , 0.    , 0.    , 0.    , 0.    , 0.    ,\n",
       "       0.    , 0.    , 0.    , 0.    , 0.    , 0.    , 0.    , 0.    ,\n",
       "       0.    , 0.    , 0.    ])"
      ]
     },
     "execution_count": 10,
     "metadata": {},
     "output_type": "execute_result"
    }
   ],
   "source": [
    "P_19"
   ]
  },
  {
   "cell_type": "code",
   "execution_count": null,
   "metadata": {},
   "outputs": [],
   "source": []
  }
 ],
 "metadata": {
  "kernelspec": {
   "display_name": "Python 3",
   "language": "python",
   "name": "python3"
  },
  "language_info": {
   "codemirror_mode": {
    "name": "ipython",
    "version": 3
   },
   "file_extension": ".py",
   "mimetype": "text/x-python",
   "name": "python",
   "nbconvert_exporter": "python",
   "pygments_lexer": "ipython3",
   "version": "3.8.5"
  }
 },
 "nbformat": 4,
 "nbformat_minor": 4
}
