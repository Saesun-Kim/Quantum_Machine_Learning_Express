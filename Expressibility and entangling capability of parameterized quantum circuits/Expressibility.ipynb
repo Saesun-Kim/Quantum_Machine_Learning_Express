{
 "cells": [
  {
   "cell_type": "markdown",
   "metadata": {},
   "source": [
    "# Expressibility and entangling capability of parameterized quantum circuits for hybrid quantum-classical algorithms\n",
    "\n",
    "In this document, we are replicating the work by S.Sim,P.D.Johnson and A.Aspuru-Guzik *Adv.Quantum.Technol.* **2** 1900070 (2019): https://arxiv.org/abs/1905.10876\n",
    "\n",
    "Consider a parameterized quantum circuit $U(\\mathbf{x})$, and define the quantity\n",
    "$$f(\\mathbf{x},\\mathbf{y}) = |\\langle 0 | U^{\\dagger}(\\mathbf{y})U(\\mathbf{x})|0\\rangle|^{2}$$\n",
    "This quantity is the fidelity of the two states\n",
    "$$\\begin{align*}\n",
    "|\\psi_{\\mathbf{x}}\\rangle = U(\\mathbf{x})|0\\rangle~~&\\text{and}~~|\\psi_{\\mathbf{y}}\\rangle = U(\\mathbf{y})|0\\rangle:\\\\\n",
    "|\\langle \\psi_{\\mathbf{y}}|\\psi_{\\mathbf{x}}\\rangle|^{2} &= |\\langle 0 |U^{\\dagger}(\\mathbf{y})U(\\mathbf{x})|0\\rangle|^{2}.\n",
    "\\end{align*}$$"
   ]
  },
  {
   "cell_type": "code",
   "execution_count": 1,
   "metadata": {},
   "outputs": [
    {
     "name": "stderr",
     "output_type": "stream",
     "text": [
      "C:\\Users\\Saesun Kim\\anaconda3\\envs\\name_of_my_env\\lib\\site-packages\\qiskit\\providers\\ibmq\\ibmqfactory.py:192: UserWarning: Timestamps in IBMQ backend properties, jobs, and job results are all now in local time instead of UTC.\n",
      "  warnings.warn('Timestamps in IBMQ backend properties, jobs, and job results '\n"
     ]
    }
   ],
   "source": [
    "from qiskit import *\n",
    "from qiskit import QuantumRegister, ClassicalRegister, QuantumCircuit\n",
    "from qiskit import IBMQ, Aer, execute,assemble,QuantumCircuit, aqua\n",
    "from qiskit.visualization import plot_histogram, plot_bloch_vector, plot_bloch_multivector\n",
    "from qiskit.quantum_info import Statevector\n",
    "from qiskit.extensions import *\n",
    "provider = IBMQ.load_account()\n",
    "\n",
    "from qiskit.quantum_info import random_unitary\n",
    "\n",
    "import matplotlib.pyplot as plt\n",
    "%matplotlib inline\n",
    "import numpy as np\n",
    "import math\n",
    "from math import pi, sqrt\n",
    "\n",
    "from random import seed\n",
    "from random import random\n",
    "import cmath"
   ]
  },
  {
   "cell_type": "markdown",
   "metadata": {},
   "source": [
    "## Idle Circuit"
   ]
  },
  {
   "cell_type": "code",
   "execution_count": null,
   "metadata": {},
   "outputs": [],
   "source": [
    "backend = Aer.get_backend('qasm_simulator')\n",
    "nshot=1000\n",
    "nparam=2000\n",
    "fedelity=[]    \n",
    "for x in range(nparam):\n",
    "    th=2*pi*random()\n",
    "    qr = QuantumRegister(1)\n",
    "    cr = ClassicalRegister(1)\n",
    "    qc = QuantumCircuit(qr, cr)\n",
    "    qc.i(qr[0])\n",
    "    qc.i(qr[0])\n",
    "    qc.measure(qr[0],cr[0])\n",
    "    job = execute(qc, backend, shots=nshot)\n",
    "    result = job.result()\n",
    "    count =result.get_counts()\n",
    "\n",
    "    if '0' in count:\n",
    "        ratio=count['0']/nshot\n",
    "    else:\n",
    "        ratio=0\n",
    "    fedelity.append(ratio)\n"
   ]
  },
  {
   "cell_type": "code",
   "execution_count": null,
   "metadata": {},
   "outputs": [],
   "source": [
    "weights = np.ones_like(fedelity)/float(len(fedelity))\n",
    "plt.hist(fedelity, bins=75, weights=weights, range=[0, 1])\n",
    "plt.show()"
   ]
  },
  {
   "cell_type": "code",
   "execution_count": null,
   "metadata": {},
   "outputs": [],
   "source": [
    "svsim = Aer.get_backend('statevector_simulator')\n",
    "qobj = assemble(qc)\n",
    "state = svsim.run(qobj).result().get_statevector()\n",
    "plot_bloch_multivector(state)"
   ]
  },
  {
   "cell_type": "code",
   "execution_count": null,
   "metadata": {},
   "outputs": [],
   "source": [
    "#Kullback Leibler divergence\n",
    "P_I=np.histogram(fedelity, bins=75, weights=weights, range=[0, 1])[0]\n",
    "P_harr=[1/75]*75\n",
    "P_I*np.log(P_I/P_harr)"
   ]
  },
  {
   "cell_type": "markdown",
   "metadata": {},
   "source": [
    "## Circuit A"
   ]
  },
  {
   "cell_type": "code",
   "execution_count": null,
   "metadata": {},
   "outputs": [],
   "source": [
    "\n",
    "j=(-1)**(1/2)\n",
    "\n",
    "backend = Aer.get_backend('qasm_simulator')\n",
    "nshot=1000\n",
    "nparam=2000\n",
    "fedelity=[]    \n",
    "for x in range(nparam):\n",
    "    th1=2*pi*random()\n",
    "    th2=2*pi*random()\n",
    "    qr = QuantumRegister(1)\n",
    "    cr = ClassicalRegister(1)\n",
    "    qc = QuantumCircuit(qr, cr)\n",
    "    qc.h(qr[0])\n",
    "    qc.rz(th1, qr[0])\n",
    "    qc.rz(th2, qr[0])\n",
    "    qc.h(qr[0])\n",
    "    qc.measure(qr[0],cr[0])\n",
    "    job = execute(qc, backend, shots=nshot)\n",
    "    result = job.result()\n",
    "    count =result.get_counts()\n",
    "\n",
    "    if '0' in count and '1' in count:\n",
    "        ratio=count['0']/nshot\n",
    "    elif '0' in count and '1' not in count:\n",
    "        ratio=count['0']/nshot\n",
    "    else:\n",
    "        ratio=0\n",
    "\n",
    "    \n",
    "    fedelity.append(ratio)\n",
    "    \n",
    "weights = np.ones_like(fedelity)/float(len(fedelity))\n",
    "plt.hist(fedelity, bins=75, weights=weights)\n",
    "plt.show()"
   ]
  },
  {
   "cell_type": "code",
   "execution_count": null,
   "metadata": {},
   "outputs": [],
   "source": [
    "th=2*pi*random()\n",
    "qr = QuantumRegister(1)\n",
    "cr = ClassicalRegister(1)\n",
    "qc = QuantumCircuit(qr, cr)\n",
    "qc.h(qr[0])\n",
    "qc.rz(th, qr[0])\n",
    "svsim = Aer.get_backend('statevector_simulator')\n",
    "qobj = assemble(qc)\n",
    "state = svsim.run(qobj).result().get_statevector()\n",
    "plot_bloch_multivector(state)"
   ]
  },
  {
   "cell_type": "code",
   "execution_count": null,
   "metadata": {},
   "outputs": [],
   "source": [
    "#Kullback Leibler divergence\n",
    "P_A=np.histogram(fedelity, bins=75, weights=weights, range=[0, 1])[0]\n",
    "P_harr=[1/75]*75\n",
    "sum(P_A*np.log(P_A/P_harr))"
   ]
  },
  {
   "cell_type": "markdown",
   "metadata": {},
   "source": [
    "## Circuit B"
   ]
  },
  {
   "cell_type": "code",
   "execution_count": 7,
   "metadata": {},
   "outputs": [
    {
     "data": {
      "image/png": "[encoded data removed]",
      "text/plain": [
       "<Figure size 432x288 with 1 Axes>"
      ]
     },
     "metadata": {
      "needs_background": "light"
     },
     "output_type": "display_data"
    }
   ],
   "source": [
    "backend = Aer.get_backend('qasm_simulator')\n",
    "nshot=1000\n",
    "nparam=2000\n",
    "fedelity=[]    \n",
    "for x in range(nparam):\n",
    "    th1=2*pi*random()\n",
    "    th2=2*pi*random()\n",
    "    \n",
    "    th3=2*pi*random()\n",
    "    th4=2*pi*random()\n",
    "    qr = QuantumRegister(1)\n",
    "    cr = ClassicalRegister(1)\n",
    "    qc = QuantumCircuit(qr, cr)\n",
    "    qc.h(qr[0])\n",
    "    qc.rz(th1, qr[0])\n",
    "    qc.rx(th2, qr[0])\n",
    "    \n",
    "    qc.rx(-th3, qr[0])\n",
    "\n",
    "    qc.rz(-th4, qr[0])\n",
    "    qc.h(qr[0])\n",
    "    qc.measure(qr[0],cr[0])\n",
    "    job = execute(qc, backend, shots=nshot)\n",
    "    result = job.result()\n",
    "    count =result.get_counts()\n",
    "\n",
    "    if '0' in count and '1' in count:\n",
    "        ratio=count['0']/nshot\n",
    "    elif '0' in count and '1' not in count:\n",
    "        ratio=count['0']/nshot\n",
    "    else:\n",
    "        ratio=0\n",
    "    \n",
    "    fedelity.append(ratio)\n",
    "    \n",
    "weights = np.ones_like(fedelity)/float(len(fedelity))\n",
    "plt.hist(fedelity, bins=75, weights=weights)\n",
    "plt.show()"
   ]
  },
  {
   "cell_type": "code",
   "execution_count": null,
   "metadata": {},
   "outputs": [],
   "source": [
    "qr = QuantumRegister(1)\n",
    "cr = ClassicalRegister(1)\n",
    "qc = QuantumCircuit(qr, cr)\n",
    "th1=pi/4\n",
    "th2=0*pi/6\n",
    "qc.h(qr[0])\n",
    "qc.rz(th1, qr[0])\n",
    "qc.rx(th2, qr[0])\n",
    "svsim = Aer.get_backend('statevector_simulator')\n",
    "qobj = assemble(qc)\n",
    "state = svsim.run(qobj).result().get_statevector()\n",
    "plot_bloch_multivector(state)"
   ]
  },
  {
   "cell_type": "code",
   "execution_count": null,
   "metadata": {},
   "outputs": [],
   "source": [
    "#Kullback Leibler divergence\n",
    "P_B=np.histogram(fedelity, bins=75, weights=weights, range=[0, 1])[0]\n",
    "P_harr=[1/75]*75\n",
    "sum(P_B*np.log(P_B/P_harr))"
   ]
  },
  {
   "cell_type": "markdown",
   "metadata": {},
   "source": [
    "## Arbitary Unitary"
   ]
  },
  {
   "cell_type": "code",
   "execution_count": null,
   "metadata": {},
   "outputs": [],
   "source": [
    "backend = Aer.get_backend('qasm_simulator')\n",
    "nshot=1000\n",
    "nparam=2000\n",
    "fedelity=[]    \n",
    "for x in range(nparam):\n",
    "    th1=2*pi*random()\n",
    "    th2=2*pi*random()\n",
    "    th3=2*pi*random()\n",
    "    th4=2*pi*random()\n",
    "    th5=2*pi*random()\n",
    "    th6=2*pi*random()\n",
    "    qr = QuantumRegister(1)\n",
    "    cr = ClassicalRegister(1)\n",
    "    qc = QuantumCircuit(qr, cr)\n",
    "\n",
    "    qc.u3(th1,th2,th3, qr[0])\n",
    "    qc.u3(-th4,-th5,-th6, qr[0])\n",
    "\n",
    "\n",
    "    qc.measure(qr[0],cr[0])\n",
    "    job = execute(qc, backend, shots=nshot)\n",
    "    result = job.result()\n",
    "    count =result.get_counts()\n",
    "\n",
    "    if '0' in count and '1' in count:\n",
    "        ratio=count['0']/nshot\n",
    "    elif '0' in count and '1' not in count:\n",
    "        ratio=count['0']/nshot\n",
    "    else:\n",
    "        ratio=0\n",
    "    \n",
    "    fedelity.append(ratio)\n",
    "    \n",
    "weights = np.ones_like(fedelity)/float(len(fedelity))\n",
    "plt.hist(fedelity, bins=75, weights=weights)\n",
    "plt.show()"
   ]
  },
  {
   "cell_type": "code",
   "execution_count": null,
   "metadata": {},
   "outputs": [],
   "source": [
    "import numpy\n",
    "from qiskit.circuit.controlledgate import ControlledGate\n",
    "from qiskit.circuit.gate import Gate\n",
    "from qiskit.circuit.quantumregister import QuantumRegister\n",
    "\n",
    "svsim = Aer.get_backend('statevector_simulator')\n",
    "qobj = assemble(qc)\n",
    "state = svsim.run(qobj).result().get_statevector()\n",
    "plot_bloch_multivector(state)"
   ]
  },
  {
   "cell_type": "code",
   "execution_count": 2,
   "metadata": {},
   "outputs": [
    {
     "data": {
      "image/png": "[encoded data removed]",
      "text/plain": [
       "<Figure size 432x288 with 1 Axes>"
      ]
     },
     "metadata": {
      "needs_background": "light"
     },
     "output_type": "display_data"
    }
   ],
   "source": [
    "backend = Aer.get_backend('qasm_simulator')\n",
    "nshot=1000\n",
    "nparam=2000\n",
    "fedelity=[]    \n",
    "for x in range(nparam):\n",
    "    qr = QuantumRegister(1)\n",
    "    cr = ClassicalRegister(1)\n",
    "    qc = QuantumCircuit(qr, cr)\n",
    "\n",
    "    u13=UnitaryGate(random_unitary(2))\n",
    "    qc.append(u13, [qr[0]] )\n",
    "    u13=UnitaryGate(random_unitary(2))\n",
    "    qc.append(u13, [qr[0]] )\n",
    "\n",
    "    qc.measure(qr[0],cr[0])\n",
    "    job = execute(qc, backend, shots=nshot)\n",
    "    result = job.result()\n",
    "    count =result.get_counts()\n",
    "\n",
    "    if '0' in count and '1' in count:\n",
    "        ratio=count['0']/nshot\n",
    "    elif '0' in count and '1' not in count:\n",
    "        ratio=count['0']/nshot\n",
    "    else:\n",
    "        ratio=0\n",
    "    \n",
    "    fedelity.append(ratio)\n",
    "    \n",
    "weights = np.ones_like(fedelity)/float(len(fedelity))\n",
    "plt.hist(fedelity, bins=75, weights=weights)\n",
    "plt.show()"
   ]
  },
  {
   "cell_type": "code",
   "execution_count": 3,
   "metadata": {},
   "outputs": [
    {
     "data": {
      "text/plain": [
       "0.02096239430414975"
      ]
     },
     "execution_count": 3,
     "metadata": {},
     "output_type": "execute_result"
    }
   ],
   "source": [
    "#Kullback Leibler divergence\n",
    "P_U=np.histogram(fedelity, bins=75, weights=weights, range=[0, 1])[0]\n",
    "P_harr=[1/75]*75\n",
    "sum(P_U*np.log(P_U/P_harr))"
   ]
  },
  {
   "cell_type": "code",
   "execution_count": null,
   "metadata": {},
   "outputs": [],
   "source": []
  },
  {
   "cell_type": "code",
   "execution_count": null,
   "metadata": {},
   "outputs": [],
   "source": []
  }
 ],
 "metadata": {
  "kernelspec": {
   "display_name": "Python 3",
   "language": "python",
   "name": "python3"
  },
  "language_info": {
   "codemirror_mode": {
    "name": "ipython",
    "version": 3
   },
   "file_extension": ".py",
   "mimetype": "text/x-python",
   "name": "python",
   "nbconvert_exporter": "python",
   "pygments_lexer": "ipython3",
   "version": "3.8.5"
  }
 },
 "nbformat": 4,
 "nbformat_minor": 4
}
