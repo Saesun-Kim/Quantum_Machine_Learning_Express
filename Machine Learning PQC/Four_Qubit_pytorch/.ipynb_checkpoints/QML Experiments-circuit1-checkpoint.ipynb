{
 "cells": [
  {
   "cell_type": "markdown",
   "id": "4afa6a21",
   "metadata": {},
   "source": [
    "The purpose of this notebook is to provide a unified interface to our code for doing data generation.\n",
    "\n",
    "We plan to do experiment with the following things:\n",
    "\n",
    "**Circuit**\n",
    "\n",
    "We will use circuits 1, 6, 9, and 14, as they cover a variety of circuit expressibilities and entangling capabilities.\n",
    "\n",
    "| | High Ent | Low Ent |\n",
    "| --- | --- | --- |\n",
    "| High Exp|6 | 14 |\n",
    "|Low Exp| 9 | 1 |\n",
    "\n",
    "**Data sets**\n",
    "\n",
    "We will use 4 data sets:\n",
    "\n",
    "* Data set 0 (2 blobs, separable)\n",
    "* Data set 1 (2 blobs, inseparable)\n",
    "* Data set 2a (4 blobs, separable)\n",
    "* Data set 3c (4 blobs) <-- Saesun's choice\n",
    "\n",
    "**Learning rates**\n",
    "\n",
    "We will investigate several learning rates.\n",
    "\n",
    "----------------\n",
    "\n",
    "The code below will help us set up our experiments."
   ]
  },
  {
   "cell_type": "code",
   "execution_count": 2,
   "id": "769a087c",
   "metadata": {},
   "outputs": [],
   "source": [
    "# The code below is a hack in case Travis' kernel fails.\n",
    "#import os\n",
    "#os.environ['KMP_DUPLICATE_LIB_OK'] ='True'\n",
    "\n",
    "# Pull in the helper files.\n",
    "%run experiments"
   ]
  },
  {
   "cell_type": "code",
   "execution_count": 3,
   "id": "eaaa32a4",
   "metadata": {},
   "outputs": [],
   "source": [
    "# Set up the experiment\n",
    "circuitID = 1\n",
    "dataSetID = '0'\n",
    "learning_rate = .5\n",
    "epochs = 1"
   ]
  },
  {
   "cell_type": "code",
   "execution_count": 4,
   "id": "fd0980fd",
   "metadata": {},
   "outputs": [
    {
     "name": "stdout",
     "output_type": "stream",
     "text": [
      "Learning Rate ( 0.5 ) is intialized\n"
     ]
    },
    {
     "name": "stderr",
     "output_type": "stream",
     "text": [
      "C:\\Users\\kim8104\\Anaconda3\\lib\\site-packages\\torch\\nn\\modules\\loss.py:528: UserWarning: Using a target size (torch.Size([1])) that is different to the input size (torch.Size([1, 2])). This will likely lead to incorrect results due to broadcasting. Please ensure they have the same size.\n",
      "  return F.mse_loss(input, target, reduction=self.reduction)\n"
     ]
    },
    {
     "name": "stdout",
     "output_type": "stream",
     "text": [
      "Learning Rate ( 0.5 ) is done\n",
      "1 0 0.5 0.472\n"
     ]
    }
   ],
   "source": [
    "# Run the experiment\n",
    "\n",
    "# Load in the data\n",
    "data = load_data(dataSetID)\n",
    "\n",
    "# Generate the splittings\n",
    "train_X, train_y, validate_X, validate_y, test_X, test_y = generate_train_validate_test_data(data)\n",
    "\n",
    "# Make the feature map\n",
    "feature_map= make_embedding_circuit()\n",
    "\n",
    "# Make the classifier\n",
    "ansatz = make_classifer_circuit(circuitID)\n",
    "\n",
    "# Do the training\n",
    "model = train_model(feature_map, ansatz, epochs, learning_rate, train_X, train_y)\n",
    "\n",
    "# Check the validation accuracy.\n",
    "val_accuracy = check_accuracy(model, validate_X, validate_y)\n",
    "\n",
    "print(circuitID, dataSetID, learning_rate, val_accuracy)"
   ]
  },
  {
   "cell_type": "code",
   "execution_count": 4,
   "id": "ed3c1f8c",
   "metadata": {},
   "outputs": [],
   "source": [
    "def multiprosmodel(learning_rate):\n",
    "    model = train_model(feature_map, ansatz, epochs, learning_rate, train_X, train_y)\n",
    "    val_accuracy=check_accuracy(model, validate_X, validate_y)\n",
    "    return [learning_rate,val_accuracy]"
   ]
  },
  {
   "cell_type": "code",
   "execution_count": 5,
   "id": "f42b5631",
   "metadata": {},
   "outputs": [],
   "source": [
    "from multiprocessing import Pool\n",
    "from functools import partial\n",
    "import inspect\n",
    "\n",
    "def parallal_task(multiprosmodel,lr):\n",
    "    if __name__ == '__main__':\n",
    "        pool = Pool(processes=4)\n",
    "        res = pool.map(multiprosmodel, lr)\n",
    "        pool.close()\n",
    "        return res\n",
    "    else:\n",
    "        raise \"Not in Jupyter Notebook\""
   ]
  },
  {
   "cell_type": "code",
   "execution_count": null,
   "id": "835885f2",
   "metadata": {},
   "outputs": [],
   "source": [
    "data_list = [0.1,0.2,0.3,0.4]\n",
    "\n",
    "for res in parallal_task(multiprosmodel, data_list):\n",
    "    print(res) "
   ]
  },
  {
   "cell_type": "code",
   "execution_count": null,
   "id": "fb500bff",
   "metadata": {},
   "outputs": [],
   "source": []
  }
 ],
 "metadata": {
  "kernelspec": {
   "display_name": "Python 3",
   "language": "python",
   "name": "python3"
  },
  "language_info": {
   "codemirror_mode": {
    "name": "ipython",
    "version": 3
   },
   "file_extension": ".py",
   "mimetype": "text/x-python",
   "name": "python",
   "nbconvert_exporter": "python",
   "pygments_lexer": "ipython3",
   "version": "3.8.8"
  }
 },
 "nbformat": 4,
 "nbformat_minor": 5
}
