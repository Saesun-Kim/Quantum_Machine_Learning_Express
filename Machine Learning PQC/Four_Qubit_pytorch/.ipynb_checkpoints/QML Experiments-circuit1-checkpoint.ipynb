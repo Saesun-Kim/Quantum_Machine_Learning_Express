{
 "cells": [
  {
   "cell_type": "markdown",
   "id": "82ef44f6",
   "metadata": {},
   "source": [
    "The purpose of this notebook is to provide a unified interface to our code for doing data generation.\n",
    "\n",
    "We plan to do experiment with the following things:\n",
    "\n",
    "**Circuit**\n",
    "\n",
    "We will use circuits 1, 6, 9, and 14, as they cover a variety of circuit expressibilities and entangling capabilities.\n",
    "\n",
    "| | High Ent | Low Ent |\n",
    "| --- | --- | --- |\n",
    "| High Exp|6 | 14 |\n",
    "|Low Exp| 9 | 1 |\n",
    "\n",
    "**Data sets**\n",
    "\n",
    "We will use 4 data sets:\n",
    "\n",
    "* Data set 0 (2 blobs, separable)\n",
    "* Data set 1 (2 blobs, inseparable)\n",
    "* Data set 2a (4 blobs, separable)\n",
    "* Data set 3c (4 blobs) <-- Saesun's choice\n",
    "\n",
    "**Learning rates**\n",
    "\n",
    "We will investigate several learning rates.\n",
    "\n",
    "----------------\n",
    "\n",
    "The code below will help us set up our experiments."
   ]
  },
  {
   "cell_type": "code",
   "execution_count": 21,
   "id": "f8b487df",
   "metadata": {},
   "outputs": [],
   "source": [
    "# The code below is a hack in case Travis' kernel fails.\n",
    "#import os\n",
    "#os.environ['KMP_DUPLICATE_LIB_OK'] ='True'\n",
    "\n",
    "# Pull in the helper files.\n",
    "%run experiments"
   ]
  },
  {
   "cell_type": "code",
   "execution_count": 27,
   "id": "bfe9570a",
   "metadata": {},
   "outputs": [],
   "source": [
    "# Set up the experiment\n",
    "circuitID = 1\n",
    "epochs = 20"
   ]
  },
  {
   "cell_type": "code",
   "execution_count": null,
   "id": "07634bf8",
   "metadata": {},
   "outputs": [
    {
     "name": "stdout",
     "output_type": "stream",
     "text": [
      "--------dataset 0 is initialized------\n",
      "__Learning Rate ( 0.01 ) is intialized\n",
      "__Learning Rate ( 0.01 ) is done\n",
      "__Learning Rate ( 0.04 ) is intialized\n"
     ]
    }
   ],
   "source": [
    "import numpy as np\n",
    "import sys\n",
    "numpy.set_printoptions(threshold=sys.maxsize)\n",
    "lr_list=[round(((i+1)/10)**2,2) for i in range(20)]\n",
    "ds_list=['0','1a','2a','3c']\n",
    "\n",
    "for dsID in ds_list:\n",
    "# Run the experiment\n",
    "    print('--------dataset',dsID,'is initialized------')\n",
    "    lr_acc=[]\n",
    "    for lr in lr_list:\n",
    "        # Load in the data\n",
    "        data = load_data(dsID)\n",
    "\n",
    "        # Generate the splittings\n",
    "        train_X, train_y, validate_X, validate_y, test_X, test_y = generate_train_validate_test_data(data)\n",
    "\n",
    "        # Make the feature map\n",
    "        feature_map= make_embedding_circuit()\n",
    "\n",
    "        # Make the classifier\n",
    "        ansatz = make_classifer_circuit(circuitID)\n",
    "\n",
    "        # Do the training\n",
    "        model = train_model(feature_map, ansatz, epochs, lr, train_X, train_y)\n",
    "\n",
    "        # Check the validation accuracy.\n",
    "        val_accuracy = check_accuracy(model, validate_X, validate_y)\n",
    "\n",
    "        lr_acc.append([lr,val_accuracy])\n",
    "    np.savetxt(r\"Learning_Rate_Data\\circuit{0}_data{1}.txt\".format(circuitID,dsID),lr_acc,fmt='%.2f')"
   ]
  },
  {
   "cell_type": "code",
   "execution_count": 16,
   "id": "a9ebb952",
   "metadata": {},
   "outputs": [],
   "source": []
  },
  {
   "cell_type": "code",
   "execution_count": null,
   "id": "cd88621d",
   "metadata": {},
   "outputs": [],
   "source": []
  }
 ],
 "metadata": {
  "kernelspec": {
   "display_name": "Python 3",
   "language": "python",
   "name": "python3"
  },
  "language_info": {
   "codemirror_mode": {
    "name": "ipython",
    "version": 3
   },
   "file_extension": ".py",
   "mimetype": "text/x-python",
   "name": "python",
   "nbconvert_exporter": "python",
   "pygments_lexer": "ipython3",
   "version": "3.6.13"
  }
 },
 "nbformat": 4,
 "nbformat_minor": 5
}
