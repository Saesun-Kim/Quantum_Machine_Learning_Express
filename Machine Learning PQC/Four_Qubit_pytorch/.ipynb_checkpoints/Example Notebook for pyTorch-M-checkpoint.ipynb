{
 "cells": [
  {
   "cell_type": "code",
   "execution_count": 1,
   "id": "852aa1ba",
   "metadata": {},
   "outputs": [
    {
     "data": {
      "text/plain": [
       "{'qiskit-terra': '0.17.1', 'qiskit-aer': '0.8.1', 'qiskit-ignis': '0.6.0', 'qiskit-ibmq-provider': '0.12.2', 'qiskit-aqua': '0.9.1', 'qiskit': '0.25.1', 'qiskit-nature': None, 'qiskit-finance': None, 'qiskit-optimization': None, 'qiskit-machine-learning': None}"
      ]
     },
     "execution_count": 1,
     "metadata": {},
     "output_type": "execute_result"
    }
   ],
   "source": [
    "import qiskit\n",
    "qiskit.__qiskit_version__"
   ]
  },
  {
   "cell_type": "code",
   "execution_count": 2,
   "id": "8c263dc9",
   "metadata": {},
   "outputs": [],
   "source": [
    "import numpy as np\n",
    "import matplotlib.pyplot as plt\n",
    "\n",
    "from torch import Tensor\n",
    "from torch.nn import MSELoss\n",
    "from torch.optim import LBFGS, SGD,Adam \n",
    "\n",
    "from qiskit  import Aer, QuantumCircuit\n",
    "from qiskit.utils import QuantumInstance\n",
    "from qiskit.circuit import Parameter\n",
    "from qiskit_machine_learning.neural_networks import CircuitQNN, TwoLayerQNN\n",
    "from qiskit_machine_learning.connectors import TorchConnector\n",
    "\n",
    "import torch.optim as optim\n",
    "\n",
    "from pandas.core.common import flatten\n",
    "\n",
    "# Load in some additional functions from a text file\n",
    "from helpers import parity\n",
    "\n",
    "import sys\n",
    "sys.path.append('../../Pyfiles')\n",
    "from circuits_n1 import *"
   ]
  },
  {
   "cell_type": "code",
   "execution_count": 3,
   "id": "91ba8fb3",
   "metadata": {},
   "outputs": [],
   "source": [
    "# Set up the QuantumInstance we'll use to run things\n",
    "qi = QuantumInstance(Aer.get_backend('statevector_simulator'))"
   ]
  },
  {
   "cell_type": "code",
   "execution_count": 4,
   "id": "795e0fbf",
   "metadata": {},
   "outputs": [
    {
     "data": {
      "text/plain": [
       "True"
      ]
     },
     "execution_count": 4,
     "metadata": {},
     "output_type": "execute_result"
    }
   ],
   "source": [
    "import torch\n",
    "torch.cuda.is_available()"
   ]
  },
  {
   "cell_type": "markdown",
   "id": "e9cd6fa3",
   "metadata": {},
   "source": [
    "# Pull in a data set"
   ]
  },
  {
   "cell_type": "code",
   "execution_count": 5,
   "id": "183b6d2a",
   "metadata": {},
   "outputs": [],
   "source": [
    "# Replace this\n",
    "dataSetID = '0'\n",
    "\n",
    "# Define the directory paths\n",
    "data0Path = r'../../dataset/data{0}.txt'.format(dataSetID)\n",
    "data0Label = r'../../dataset/data{0}label.txt'.format(dataSetID)\n",
    "\n",
    "# Load in the data\n",
    "dataCoords = np.loadtxt(data0Path)\n",
    "dataLabels = np.loadtxt(data0Label)\n",
    "\n",
    "# Make a data structure which is easier to work with\n",
    "# for shuffling. \n",
    "# Also, notice we change the data labels from {0, 1} to {-1, +1}\n",
    "data = list(zip(dataCoords, 2*dataLabels-1))"
   ]
  },
  {
   "cell_type": "code",
   "execution_count": 6,
   "id": "adbb6929",
   "metadata": {},
   "outputs": [],
   "source": [
    "def generate_train_validate_test_data(data, train_size=100, validate_size=500, randomSeed=0):\n",
    "    r'''This is a function which, given a dataset, will return 3 distinct datasets from it: a training dataset,\n",
    "    a validation dataset, and a testing dataset.\n",
    "    \n",
    "    The size of the training and validation datasets is set by the function call; the size of the testing\n",
    "    dataset is the remainder of the data after training & validation dataset have been generated.'''\n",
    "    \n",
    "    assert len(data) > train_size+validate_size, 'Not enough data to do the splitting.'\n",
    "    \n",
    "    def generate_data(data, ixs):\n",
    "        r'''Helper function for generating data.'''\n",
    "        X= [np.array(list(flatten([data[j][0],data[j][0]]))) for j in ixs]\n",
    "        y = [data[j][1] for j in ixs]    \n",
    "    \n",
    "        # Recast X as a pyTorch tensor\n",
    "        X = Tensor(X)\n",
    "        \n",
    "        # Change how the data is labeled: {-1,+1} --> {0, 1}\n",
    "        y =  [ (x + 1)/2 for x in y]\n",
    "        \n",
    "        return X, y\n",
    "    \n",
    "    # At the start, we could use all possible datapoints for training\n",
    "    possible_ixs = range(len(data))\n",
    "    \n",
    "    # Training data\n",
    "    np.random.seed(randomSeed)\n",
    "    train_ixs = np.random.choice(possible_ixs, size=train_size)\n",
    "    train_X, train_y = generate_data(data, train_ixs)\n",
    "    \n",
    "    # Update the possible indices we could choose from\n",
    "    possible_ixs = [x for x in possible_ixs if x not in train_ixs]\n",
    "\n",
    "    # Validation data\n",
    "    np.random.seed(randomSeed)\n",
    "    validate_ixs = np.random.choice(possible_ixs, size=validate_size)\n",
    "    validate_X, validate_y = generate_data(data, validate_ixs)\n",
    "    \n",
    "    # Now, use the rest of the data for testing\n",
    "    possible_ixs = [x for x in possible_ixs if x not in validate_ixs]\n",
    "    test_X, test_y = generate_data(data, possible_ixs)\n",
    "    \n",
    "    return train_X, train_y, validate_X, validate_y, test_X, test_y"
   ]
  },
  {
   "cell_type": "code",
   "execution_count": 7,
   "id": "e7c981eb",
   "metadata": {
    "scrolled": false
   },
   "outputs": [],
   "source": [
    "train_X, train_y, validate_X, validate_y, test_X, test_y = generate_train_validate_test_data(data, train_size=100, validate_size=500)"
   ]
  },
  {
   "cell_type": "markdown",
   "id": "b2dbc994",
   "metadata": {},
   "source": [
    "# Make the circuit"
   ]
  },
  {
   "cell_type": "code",
   "execution_count": 8,
   "id": "51046038",
   "metadata": {
    "scrolled": true
   },
   "outputs": [
    {
     "data": {
      "text/html": [
       "<pre style=\"word-wrap: normal;white-space: pre;background: #fff0;line-height: 1.1;font-family: &quot;Courier New&quot;,Courier,monospace\">     ┌─────────────────────────────┐┌───────────────────────────────┐\n",
       "q_0: ┤0                            ├┤0                              ├\n",
       "     │                             ││                               │\n",
       "q_1: ┤1                            ├┤1                              ├\n",
       "     │  Embed(x[0],x[1],x[2],x[3]) ││  PQC(θ0,θ1,θ2,θ3,θ4,θ5,θ6,θ7) │\n",
       "q_2: ┤2                            ├┤2                              ├\n",
       "     │                             ││                               │\n",
       "q_3: ┤3                            ├┤3                              ├\n",
       "     └─────────────────────────────┘└───────────────────────────────┘</pre>"
      ],
      "text/plain": [
       "     ┌─────────────────────────────┐┌───────────────────────────────┐\n",
       "q_0: ┤0                            ├┤0                              ├\n",
       "     │                             ││                               │\n",
       "q_1: ┤1                            ├┤1                              ├\n",
       "     │  Embed(x[0],x[1],x[2],x[3]) ││  PQC(θ0,θ1,θ2,θ3,θ4,θ5,θ6,θ7) │\n",
       "q_2: ┤2                            ├┤2                              ├\n",
       "     │                             ││                               │\n",
       "q_3: ┤3                            ├┤3                              ├\n",
       "     └─────────────────────────────┘└───────────────────────────────┘"
      ]
     },
     "execution_count": 8,
     "metadata": {},
     "output_type": "execute_result"
    }
   ],
   "source": [
    "# Make the feature map\n",
    "feature_map = QuantumCircuit(4, name='Embed')\n",
    "feature_map.rx(Parameter('x[0]'),0)\n",
    "feature_map.rx(Parameter('x[1]'),1)\n",
    "feature_map.rx(Parameter('x[2]'),2)\n",
    "feature_map.rx(Parameter('x[3]'),3)\n",
    "\n",
    "for j in [0, 2]:\n",
    "    feature_map.ry(np.pi/4,j)\n",
    "    feature_map.ry(np.pi/4,j+1)\n",
    "    feature_map.rz(np.pi/4,j)\n",
    "    feature_map.rz(np.pi/4,j+1)\n",
    "\n",
    "# Make an ansazt\n",
    "param_y=[(Parameter('θ'+str(i))) for i in range(12)]\n",
    "ansatz = QuantumCircuit(4, name='PQC')\n",
    "ansatz=circuit1(ansatz,param_y,1,0)\n",
    "\n",
    "\n",
    "qc = QuantumCircuit(ansatz.width())\n",
    "qc.append(feature_map, range(ansatz.width()))\n",
    "qc.append(ansatz, range(ansatz.width()))\n",
    "\n",
    "qc.draw()"
   ]
  },
  {
   "cell_type": "markdown",
   "id": "2d29f8c7",
   "metadata": {},
   "source": [
    "# Train the network"
   ]
  },
  {
   "cell_type": "code",
   "execution_count": 9,
   "id": "1e76a9fe",
   "metadata": {},
   "outputs": [],
   "source": [
    "def check_accuracy(model, X, y_target):\n",
    "    r'''Helper function to compute the accuracy'''\n",
    "    \n",
    "    # Evaluate model on input data\n",
    "    output = model(X)\n",
    "    \n",
    "    # Now, do some wrangling to get the data in a better format\n",
    "    output = output.detach().numpy()\n",
    "    \n",
    "    # Output is a list of lists, where the inner list is the probabilities\n",
    "    # of each class assignment. We pick the most probable class as the prediction\n",
    "    predictions = np.array([np.argmax(x) for x in output])\n",
    "    \n",
    "    return sum(predictions == y_target)/len(y_target)"
   ]
  },
  {
   "cell_type": "code",
   "execution_count": 10,
   "id": "8487ad9b",
   "metadata": {},
   "outputs": [],
   "source": [
    "learning_rate = .5\n",
    "epochs = 20\n",
    "output_shape = 2"
   ]
  },
  {
   "cell_type": "code",
   "execution_count": 14,
   "id": "bc97565f",
   "metadata": {},
   "outputs": [
    {
     "name": "stdout",
     "output_type": "stream",
     "text": [
      "Learning Rate is  0.5\n"
     ]
    },
    {
     "ename": "KeyboardInterrupt",
     "evalue": "",
     "output_type": "error",
     "traceback": [
      "\u001b[1;31m---------------------------------------------------------------------------\u001b[0m",
      "\u001b[1;31mKeyboardInterrupt\u001b[0m                         Traceback (most recent call last)",
      "\u001b[1;32m<ipython-input-14-ed67cdac1aab>\u001b[0m in \u001b[0;36m<module>\u001b[1;34m\u001b[0m\n\u001b[0;32m     21\u001b[0m     \u001b[0mloss\u001b[0m \u001b[1;33m=\u001b[0m \u001b[1;36m0.0\u001b[0m                                             \u001b[1;31m# initialize loss\u001b[0m\u001b[1;33m\u001b[0m\u001b[1;33m\u001b[0m\u001b[0m\n\u001b[0;32m     22\u001b[0m     \u001b[1;32mfor\u001b[0m \u001b[0mx\u001b[0m\u001b[1;33m,\u001b[0m \u001b[0my_target\u001b[0m \u001b[1;32min\u001b[0m \u001b[0mzip\u001b[0m\u001b[1;33m(\u001b[0m\u001b[0mtrain_X\u001b[0m\u001b[1;33m,\u001b[0m \u001b[0mtrain_y\u001b[0m\u001b[1;33m)\u001b[0m\u001b[1;33m:\u001b[0m                        \u001b[1;31m# evaluate batch loss\u001b[0m\u001b[1;33m\u001b[0m\u001b[1;33m\u001b[0m\u001b[0m\n\u001b[1;32m---> 23\u001b[1;33m         \u001b[0moutput\u001b[0m \u001b[1;33m=\u001b[0m \u001b[0mmodel\u001b[0m\u001b[1;33m(\u001b[0m\u001b[0mTensor\u001b[0m\u001b[1;33m(\u001b[0m\u001b[0mx\u001b[0m\u001b[1;33m)\u001b[0m\u001b[1;33m)\u001b[0m\u001b[1;33m.\u001b[0m\u001b[0mreshape\u001b[0m\u001b[1;33m(\u001b[0m\u001b[1;36m1\u001b[0m\u001b[1;33m,\u001b[0m \u001b[1;36m2\u001b[0m\u001b[1;33m)\u001b[0m           \u001b[1;31m# forward pass\u001b[0m\u001b[1;33m\u001b[0m\u001b[1;33m\u001b[0m\u001b[0m\n\u001b[0m\u001b[0;32m     24\u001b[0m         \u001b[0mtargets\u001b[0m\u001b[1;33m=\u001b[0m\u001b[0mTensor\u001b[0m\u001b[1;33m(\u001b[0m\u001b[1;33m[\u001b[0m\u001b[0my_target\u001b[0m\u001b[1;33m]\u001b[0m\u001b[1;33m)\u001b[0m\u001b[1;33m.\u001b[0m\u001b[0mlong\u001b[0m\u001b[1;33m(\u001b[0m\u001b[1;33m)\u001b[0m\u001b[1;33m\u001b[0m\u001b[1;33m\u001b[0m\u001b[0m\n\u001b[0;32m     25\u001b[0m         \u001b[0mtargets\u001b[0m \u001b[1;33m=\u001b[0m \u001b[0mtargets\u001b[0m\u001b[1;33m.\u001b[0m\u001b[0mto\u001b[0m\u001b[1;33m(\u001b[0m\u001b[0mtorch\u001b[0m\u001b[1;33m.\u001b[0m\u001b[0mfloat32\u001b[0m\u001b[1;33m)\u001b[0m\u001b[1;33m\u001b[0m\u001b[1;33m\u001b[0m\u001b[0m\n",
      "\u001b[1;32m~\\AppData\\Roaming\\Python\\Python38\\site-packages\\torch\\nn\\modules\\module.py\u001b[0m in \u001b[0;36m_call_impl\u001b[1;34m(self, *input, **kwargs)\u001b[0m\n\u001b[0;32m    720\u001b[0m             \u001b[0mresult\u001b[0m \u001b[1;33m=\u001b[0m \u001b[0mself\u001b[0m\u001b[1;33m.\u001b[0m\u001b[0m_slow_forward\u001b[0m\u001b[1;33m(\u001b[0m\u001b[1;33m*\u001b[0m\u001b[0minput\u001b[0m\u001b[1;33m,\u001b[0m \u001b[1;33m**\u001b[0m\u001b[0mkwargs\u001b[0m\u001b[1;33m)\u001b[0m\u001b[1;33m\u001b[0m\u001b[1;33m\u001b[0m\u001b[0m\n\u001b[0;32m    721\u001b[0m         \u001b[1;32melse\u001b[0m\u001b[1;33m:\u001b[0m\u001b[1;33m\u001b[0m\u001b[1;33m\u001b[0m\u001b[0m\n\u001b[1;32m--> 722\u001b[1;33m             \u001b[0mresult\u001b[0m \u001b[1;33m=\u001b[0m \u001b[0mself\u001b[0m\u001b[1;33m.\u001b[0m\u001b[0mforward\u001b[0m\u001b[1;33m(\u001b[0m\u001b[1;33m*\u001b[0m\u001b[0minput\u001b[0m\u001b[1;33m,\u001b[0m \u001b[1;33m**\u001b[0m\u001b[0mkwargs\u001b[0m\u001b[1;33m)\u001b[0m\u001b[1;33m\u001b[0m\u001b[1;33m\u001b[0m\u001b[0m\n\u001b[0m\u001b[0;32m    723\u001b[0m         for hook in itertools.chain(\n\u001b[0;32m    724\u001b[0m                 \u001b[0m_global_forward_hooks\u001b[0m\u001b[1;33m.\u001b[0m\u001b[0mvalues\u001b[0m\u001b[1;33m(\u001b[0m\u001b[1;33m)\u001b[0m\u001b[1;33m,\u001b[0m\u001b[1;33m\u001b[0m\u001b[1;33m\u001b[0m\u001b[0m\n",
      "\u001b[1;32m~\\AppData\\Roaming\\Python\\Python38\\site-packages\\qiskit_machine_learning\\connectors\\torch_connector.py\u001b[0m in \u001b[0;36mforward\u001b[1;34m(self, input_data)\u001b[0m\n\u001b[0;32m    223\u001b[0m         \"\"\"\n\u001b[0;32m    224\u001b[0m         \u001b[0minput_\u001b[0m \u001b[1;33m=\u001b[0m \u001b[0minput_data\u001b[0m \u001b[1;32mif\u001b[0m \u001b[0minput_data\u001b[0m \u001b[1;32mis\u001b[0m \u001b[1;32mnot\u001b[0m \u001b[1;32mNone\u001b[0m \u001b[1;32melse\u001b[0m \u001b[0mTensor\u001b[0m\u001b[1;33m(\u001b[0m\u001b[1;33m[\u001b[0m\u001b[1;33m]\u001b[0m\u001b[1;33m)\u001b[0m\u001b[1;33m\u001b[0m\u001b[1;33m\u001b[0m\u001b[0m\n\u001b[1;32m--> 225\u001b[1;33m         return TorchConnector._TorchNNFunction.apply(input_, self._weights,\n\u001b[0m\u001b[0;32m    226\u001b[0m                                                      self._neural_network, self._sparse)\n",
      "\u001b[1;32m~\\AppData\\Roaming\\Python\\Python38\\site-packages\\qiskit_machine_learning\\connectors\\torch_connector.py\u001b[0m in \u001b[0;36mforward\u001b[1;34m(ctx, input_data, weights, neural_network, sparse)\u001b[0m\n\u001b[0;32m     90\u001b[0m             \u001b[0mctx\u001b[0m\u001b[1;33m.\u001b[0m\u001b[0msparse\u001b[0m \u001b[1;33m=\u001b[0m \u001b[0msparse\u001b[0m\u001b[1;33m\u001b[0m\u001b[1;33m\u001b[0m\u001b[0m\n\u001b[0;32m     91\u001b[0m             \u001b[0mctx\u001b[0m\u001b[1;33m.\u001b[0m\u001b[0msave_for_backward\u001b[0m\u001b[1;33m(\u001b[0m\u001b[0minput_data\u001b[0m\u001b[1;33m,\u001b[0m \u001b[0mweights\u001b[0m\u001b[1;33m)\u001b[0m\u001b[1;33m\u001b[0m\u001b[1;33m\u001b[0m\u001b[0m\n\u001b[1;32m---> 92\u001b[1;33m             \u001b[0mresult\u001b[0m \u001b[1;33m=\u001b[0m \u001b[0mneural_network\u001b[0m\u001b[1;33m.\u001b[0m\u001b[0mforward\u001b[0m\u001b[1;33m(\u001b[0m\u001b[0minput_data\u001b[0m\u001b[1;33m.\u001b[0m\u001b[0mnumpy\u001b[0m\u001b[1;33m(\u001b[0m\u001b[1;33m)\u001b[0m\u001b[1;33m,\u001b[0m \u001b[0mweights\u001b[0m\u001b[1;33m.\u001b[0m\u001b[0mnumpy\u001b[0m\u001b[1;33m(\u001b[0m\u001b[1;33m)\u001b[0m\u001b[1;33m)\u001b[0m\u001b[1;33m\u001b[0m\u001b[1;33m\u001b[0m\u001b[0m\n\u001b[0m\u001b[0;32m     93\u001b[0m             \u001b[1;32mif\u001b[0m \u001b[0mneural_network\u001b[0m\u001b[1;33m.\u001b[0m\u001b[0msparse\u001b[0m \u001b[1;32mand\u001b[0m \u001b[0msparse\u001b[0m\u001b[1;33m:\u001b[0m\u001b[1;33m\u001b[0m\u001b[1;33m\u001b[0m\u001b[0m\n\u001b[0;32m     94\u001b[0m                 \u001b[0mresult\u001b[0m \u001b[1;33m=\u001b[0m \u001b[0mcast\u001b[0m\u001b[1;33m(\u001b[0m\u001b[0mCOO\u001b[0m\u001b[1;33m,\u001b[0m \u001b[0mcast\u001b[0m\u001b[1;33m(\u001b[0m\u001b[0mSparseArray\u001b[0m\u001b[1;33m,\u001b[0m \u001b[0mresult\u001b[0m\u001b[1;33m)\u001b[0m\u001b[1;33m.\u001b[0m\u001b[0masformat\u001b[0m\u001b[1;33m(\u001b[0m\u001b[1;34m'coo'\u001b[0m\u001b[1;33m)\u001b[0m\u001b[1;33m)\u001b[0m\u001b[1;33m\u001b[0m\u001b[1;33m\u001b[0m\u001b[0m\n",
      "\u001b[1;32m~\\AppData\\Roaming\\Python\\Python38\\site-packages\\qiskit_machine_learning\\neural_networks\\neural_network.py\u001b[0m in \u001b[0;36mforward\u001b[1;34m(self, input_data, weights)\u001b[0m\n\u001b[0;32m    145\u001b[0m         \u001b[0minput_\u001b[0m\u001b[1;33m,\u001b[0m \u001b[0mshape\u001b[0m \u001b[1;33m=\u001b[0m \u001b[0mself\u001b[0m\u001b[1;33m.\u001b[0m\u001b[0m_validate_input\u001b[0m\u001b[1;33m(\u001b[0m\u001b[0minput_data\u001b[0m\u001b[1;33m)\u001b[0m\u001b[1;33m\u001b[0m\u001b[1;33m\u001b[0m\u001b[0m\n\u001b[0;32m    146\u001b[0m         \u001b[0mweights_\u001b[0m \u001b[1;33m=\u001b[0m \u001b[0mself\u001b[0m\u001b[1;33m.\u001b[0m\u001b[0m_validate_weights\u001b[0m\u001b[1;33m(\u001b[0m\u001b[0mweights\u001b[0m\u001b[1;33m)\u001b[0m\u001b[1;33m\u001b[0m\u001b[1;33m\u001b[0m\u001b[0m\n\u001b[1;32m--> 147\u001b[1;33m         \u001b[0moutput_data\u001b[0m \u001b[1;33m=\u001b[0m \u001b[0mself\u001b[0m\u001b[1;33m.\u001b[0m\u001b[0m_forward\u001b[0m\u001b[1;33m(\u001b[0m\u001b[0minput_\u001b[0m\u001b[1;33m,\u001b[0m \u001b[0mweights_\u001b[0m\u001b[1;33m)\u001b[0m\u001b[1;33m\u001b[0m\u001b[1;33m\u001b[0m\u001b[0m\n\u001b[0m\u001b[0;32m    148\u001b[0m         \u001b[1;32mreturn\u001b[0m \u001b[0mself\u001b[0m\u001b[1;33m.\u001b[0m\u001b[0m_validate_forward_output\u001b[0m\u001b[1;33m(\u001b[0m\u001b[0moutput_data\u001b[0m\u001b[1;33m,\u001b[0m \u001b[0mshape\u001b[0m\u001b[1;33m)\u001b[0m\u001b[1;33m\u001b[0m\u001b[1;33m\u001b[0m\u001b[0m\n\u001b[0;32m    149\u001b[0m \u001b[1;33m\u001b[0m\u001b[0m\n",
      "\u001b[1;32m~\\AppData\\Roaming\\Python\\Python38\\site-packages\\qiskit_machine_learning\\neural_networks\\sampling_neural_network.py\u001b[0m in \u001b[0;36m_forward\u001b[1;34m(self, input_data, weights)\u001b[0m\n\u001b[0;32m     64\u001b[0m             \u001b[1;32mreturn\u001b[0m \u001b[0mself\u001b[0m\u001b[1;33m.\u001b[0m\u001b[0m_sample\u001b[0m\u001b[1;33m(\u001b[0m\u001b[0minput_data\u001b[0m\u001b[1;33m,\u001b[0m \u001b[0mweights\u001b[0m\u001b[1;33m)\u001b[0m\u001b[1;33m\u001b[0m\u001b[1;33m\u001b[0m\u001b[0m\n\u001b[0;32m     65\u001b[0m         \u001b[1;32melse\u001b[0m\u001b[1;33m:\u001b[0m\u001b[1;33m\u001b[0m\u001b[1;33m\u001b[0m\u001b[0m\n\u001b[1;32m---> 66\u001b[1;33m             \u001b[1;32mreturn\u001b[0m \u001b[0mself\u001b[0m\u001b[1;33m.\u001b[0m\u001b[0m_probabilities\u001b[0m\u001b[1;33m(\u001b[0m\u001b[0minput_data\u001b[0m\u001b[1;33m,\u001b[0m \u001b[0mweights\u001b[0m\u001b[1;33m)\u001b[0m\u001b[1;33m\u001b[0m\u001b[1;33m\u001b[0m\u001b[0m\n\u001b[0m\u001b[0;32m     67\u001b[0m \u001b[1;33m\u001b[0m\u001b[0m\n\u001b[0;32m     68\u001b[0m     def _backward(self, input_data: Optional[np.ndarray], weights: Optional[np.ndarray]\n",
      "\u001b[1;32m~\\AppData\\Roaming\\Python\\Python38\\site-packages\\qiskit_machine_learning\\neural_networks\\circuit_qnn.py\u001b[0m in \u001b[0;36m_probabilities\u001b[1;34m(self, input_data, weights)\u001b[0m\n\u001b[0;32m    219\u001b[0m             \u001b[0mcircuits\u001b[0m\u001b[1;33m.\u001b[0m\u001b[0mappend\u001b[0m\u001b[1;33m(\u001b[0m\u001b[0mself\u001b[0m\u001b[1;33m.\u001b[0m\u001b[0m_circuit\u001b[0m\u001b[1;33m.\u001b[0m\u001b[0mbind_parameters\u001b[0m\u001b[1;33m(\u001b[0m\u001b[0mparam_values\u001b[0m\u001b[1;33m)\u001b[0m\u001b[1;33m)\u001b[0m\u001b[1;33m\u001b[0m\u001b[1;33m\u001b[0m\u001b[0m\n\u001b[0;32m    220\u001b[0m \u001b[1;33m\u001b[0m\u001b[0m\n\u001b[1;32m--> 221\u001b[1;33m         \u001b[0mresult\u001b[0m \u001b[1;33m=\u001b[0m \u001b[0mself\u001b[0m\u001b[1;33m.\u001b[0m\u001b[0mquantum_instance\u001b[0m\u001b[1;33m.\u001b[0m\u001b[0mexecute\u001b[0m\u001b[1;33m(\u001b[0m\u001b[0mcircuits\u001b[0m\u001b[1;33m)\u001b[0m\u001b[1;33m\u001b[0m\u001b[1;33m\u001b[0m\u001b[0m\n\u001b[0m\u001b[0;32m    222\u001b[0m         \u001b[1;31m# initialize probabilities\u001b[0m\u001b[1;33m\u001b[0m\u001b[1;33m\u001b[0m\u001b[1;33m\u001b[0m\u001b[0m\n\u001b[0;32m    223\u001b[0m         \u001b[1;32mif\u001b[0m \u001b[0mself\u001b[0m\u001b[1;33m.\u001b[0m\u001b[0msparse\u001b[0m\u001b[1;33m:\u001b[0m\u001b[1;33m\u001b[0m\u001b[1;33m\u001b[0m\u001b[0m\n",
      "\u001b[1;32m~\\anaconda3\\envs\\Qiskit\\lib\\site-packages\\qiskit\\utils\\quantum_instance.py\u001b[0m in \u001b[0;36mexecute\u001b[1;34m(self, circuits, had_transpiled)\u001b[0m\n\u001b[0;32m    303\u001b[0m         \u001b[1;31m# maybe compile\u001b[0m\u001b[1;33m\u001b[0m\u001b[1;33m\u001b[0m\u001b[1;33m\u001b[0m\u001b[0m\n\u001b[0;32m    304\u001b[0m         \u001b[1;32mif\u001b[0m \u001b[1;32mnot\u001b[0m \u001b[0mhad_transpiled\u001b[0m\u001b[1;33m:\u001b[0m\u001b[1;33m\u001b[0m\u001b[1;33m\u001b[0m\u001b[0m\n\u001b[1;32m--> 305\u001b[1;33m             \u001b[0mcircuits\u001b[0m \u001b[1;33m=\u001b[0m \u001b[0mself\u001b[0m\u001b[1;33m.\u001b[0m\u001b[0mtranspile\u001b[0m\u001b[1;33m(\u001b[0m\u001b[0mcircuits\u001b[0m\u001b[1;33m)\u001b[0m\u001b[1;33m\u001b[0m\u001b[1;33m\u001b[0m\u001b[0m\n\u001b[0m\u001b[0;32m    306\u001b[0m \u001b[1;33m\u001b[0m\u001b[0m\n\u001b[0;32m    307\u001b[0m         \u001b[1;31m# assemble\u001b[0m\u001b[1;33m\u001b[0m\u001b[1;33m\u001b[0m\u001b[1;33m\u001b[0m\u001b[0m\n",
      "\u001b[1;32m~\\anaconda3\\envs\\Qiskit\\lib\\site-packages\\qiskit\\utils\\quantum_instance.py\u001b[0m in \u001b[0;36mtranspile\u001b[1;34m(self, circuits)\u001b[0m\n\u001b[0;32m    256\u001b[0m             \u001b[0mtranspiled_circuits\u001b[0m \u001b[1;33m=\u001b[0m \u001b[0mself\u001b[0m\u001b[1;33m.\u001b[0m\u001b[0m_pass_manager\u001b[0m\u001b[1;33m.\u001b[0m\u001b[0mrun\u001b[0m\u001b[1;33m(\u001b[0m\u001b[0mcircuits\u001b[0m\u001b[1;33m)\u001b[0m\u001b[1;33m\u001b[0m\u001b[1;33m\u001b[0m\u001b[0m\n\u001b[0;32m    257\u001b[0m         \u001b[1;32melse\u001b[0m\u001b[1;33m:\u001b[0m\u001b[1;33m\u001b[0m\u001b[1;33m\u001b[0m\u001b[0m\n\u001b[1;32m--> 258\u001b[1;33m             transpiled_circuits = compiler.transpile(circuits,\n\u001b[0m\u001b[0;32m    259\u001b[0m                                                      \u001b[0mself\u001b[0m\u001b[1;33m.\u001b[0m\u001b[0m_backend\u001b[0m\u001b[1;33m,\u001b[0m\u001b[1;33m\u001b[0m\u001b[1;33m\u001b[0m\u001b[0m\n\u001b[0;32m    260\u001b[0m                                                      \u001b[1;33m**\u001b[0m\u001b[0mself\u001b[0m\u001b[1;33m.\u001b[0m\u001b[0m_backend_config\u001b[0m\u001b[1;33m,\u001b[0m\u001b[1;33m\u001b[0m\u001b[1;33m\u001b[0m\u001b[0m\n",
      "\u001b[1;32m~\\anaconda3\\envs\\Qiskit\\lib\\site-packages\\qiskit\\compiler\\transpiler.py\u001b[0m in \u001b[0;36mtranspile\u001b[1;34m(circuits, backend, basis_gates, coupling_map, backend_properties, initial_layout, layout_method, routing_method, translation_method, scheduling_method, instruction_durations, dt, approximation_degree, seed_transpiler, optimization_level, pass_manager, callback, output_name)\u001b[0m\n\u001b[0;32m    243\u001b[0m \u001b[1;33m\u001b[0m\u001b[0m\n\u001b[0;32m    244\u001b[0m     \u001b[1;31m# Transpile circuits in parallel\u001b[0m\u001b[1;33m\u001b[0m\u001b[1;33m\u001b[0m\u001b[1;33m\u001b[0m\u001b[0m\n\u001b[1;32m--> 245\u001b[1;33m     \u001b[0mcircuits\u001b[0m \u001b[1;33m=\u001b[0m \u001b[0mparallel_map\u001b[0m\u001b[1;33m(\u001b[0m\u001b[0m_transpile_circuit\u001b[0m\u001b[1;33m,\u001b[0m \u001b[0mlist\u001b[0m\u001b[1;33m(\u001b[0m\u001b[0mzip\u001b[0m\u001b[1;33m(\u001b[0m\u001b[0mcircuits\u001b[0m\u001b[1;33m,\u001b[0m \u001b[0mtranspile_args\u001b[0m\u001b[1;33m)\u001b[0m\u001b[1;33m)\u001b[0m\u001b[1;33m)\u001b[0m\u001b[1;33m\u001b[0m\u001b[1;33m\u001b[0m\u001b[0m\n\u001b[0m\u001b[0;32m    246\u001b[0m \u001b[1;33m\u001b[0m\u001b[0m\n\u001b[0;32m    247\u001b[0m     \u001b[0mend_time\u001b[0m \u001b[1;33m=\u001b[0m \u001b[0mtime\u001b[0m\u001b[1;33m(\u001b[0m\u001b[1;33m)\u001b[0m\u001b[1;33m\u001b[0m\u001b[1;33m\u001b[0m\u001b[0m\n",
      "\u001b[1;32m~\\anaconda3\\envs\\Qiskit\\lib\\site-packages\\qiskit\\tools\\parallel.py\u001b[0m in \u001b[0;36mparallel_map\u001b[1;34m(task, values, task_args, task_kwargs, num_processes)\u001b[0m\n\u001b[0;32m    126\u001b[0m         \u001b[1;32mreturn\u001b[0m \u001b[1;33m[\u001b[0m\u001b[1;33m]\u001b[0m\u001b[1;33m\u001b[0m\u001b[1;33m\u001b[0m\u001b[0m\n\u001b[0;32m    127\u001b[0m     \u001b[1;32mif\u001b[0m \u001b[0mlen\u001b[0m\u001b[1;33m(\u001b[0m\u001b[0mvalues\u001b[0m\u001b[1;33m)\u001b[0m \u001b[1;33m==\u001b[0m \u001b[1;36m1\u001b[0m\u001b[1;33m:\u001b[0m\u001b[1;33m\u001b[0m\u001b[1;33m\u001b[0m\u001b[0m\n\u001b[1;32m--> 128\u001b[1;33m         \u001b[1;32mreturn\u001b[0m \u001b[1;33m[\u001b[0m\u001b[0mtask\u001b[0m\u001b[1;33m(\u001b[0m\u001b[0mvalues\u001b[0m\u001b[1;33m[\u001b[0m\u001b[1;36m0\u001b[0m\u001b[1;33m]\u001b[0m\u001b[1;33m,\u001b[0m \u001b[1;33m*\u001b[0m\u001b[0mtask_args\u001b[0m\u001b[1;33m,\u001b[0m \u001b[1;33m**\u001b[0m\u001b[0mtask_kwargs\u001b[0m\u001b[1;33m)\u001b[0m\u001b[1;33m]\u001b[0m\u001b[1;33m\u001b[0m\u001b[1;33m\u001b[0m\u001b[0m\n\u001b[0m\u001b[0;32m    129\u001b[0m \u001b[1;33m\u001b[0m\u001b[0m\n\u001b[0;32m    130\u001b[0m     \u001b[0mPublisher\u001b[0m\u001b[1;33m(\u001b[0m\u001b[1;33m)\u001b[0m\u001b[1;33m.\u001b[0m\u001b[0mpublish\u001b[0m\u001b[1;33m(\u001b[0m\u001b[1;34m\"terra.parallel.start\"\u001b[0m\u001b[1;33m,\u001b[0m \u001b[0mlen\u001b[0m\u001b[1;33m(\u001b[0m\u001b[0mvalues\u001b[0m\u001b[1;33m)\u001b[0m\u001b[1;33m)\u001b[0m\u001b[1;33m\u001b[0m\u001b[1;33m\u001b[0m\u001b[0m\n",
      "\u001b[1;32m~\\anaconda3\\envs\\Qiskit\\lib\\site-packages\\qiskit\\compiler\\transpiler.py\u001b[0m in \u001b[0;36m_transpile_circuit\u001b[1;34m(circuit_config_tuple)\u001b[0m\n\u001b[0;32m    326\u001b[0m         \u001b[1;32mraise\u001b[0m \u001b[0mTranspilerError\u001b[0m\u001b[1;33m(\u001b[0m\u001b[1;34m\"optimization_level can range from 0 to 3.\"\u001b[0m\u001b[1;33m)\u001b[0m\u001b[1;33m\u001b[0m\u001b[1;33m\u001b[0m\u001b[0m\n\u001b[0;32m    327\u001b[0m \u001b[1;33m\u001b[0m\u001b[0m\n\u001b[1;32m--> 328\u001b[1;33m     result = pass_manager.run(circuit, callback=transpile_config['callback'],\n\u001b[0m\u001b[0;32m    329\u001b[0m                               output_name=transpile_config['output_name'])\n\u001b[0;32m    330\u001b[0m \u001b[1;33m\u001b[0m\u001b[0m\n",
      "\u001b[1;32m~\\anaconda3\\envs\\Qiskit\\lib\\site-packages\\qiskit\\transpiler\\passmanager.py\u001b[0m in \u001b[0;36mrun\u001b[1;34m(self, circuits, output_name, callback)\u001b[0m\n\u001b[0;32m    214\u001b[0m         \"\"\"\n\u001b[0;32m    215\u001b[0m         \u001b[1;32mif\u001b[0m \u001b[0misinstance\u001b[0m\u001b[1;33m(\u001b[0m\u001b[0mcircuits\u001b[0m\u001b[1;33m,\u001b[0m \u001b[0mQuantumCircuit\u001b[0m\u001b[1;33m)\u001b[0m\u001b[1;33m:\u001b[0m\u001b[1;33m\u001b[0m\u001b[1;33m\u001b[0m\u001b[0m\n\u001b[1;32m--> 216\u001b[1;33m             \u001b[1;32mreturn\u001b[0m \u001b[0mself\u001b[0m\u001b[1;33m.\u001b[0m\u001b[0m_run_single_circuit\u001b[0m\u001b[1;33m(\u001b[0m\u001b[0mcircuits\u001b[0m\u001b[1;33m,\u001b[0m \u001b[0moutput_name\u001b[0m\u001b[1;33m,\u001b[0m \u001b[0mcallback\u001b[0m\u001b[1;33m)\u001b[0m\u001b[1;33m\u001b[0m\u001b[1;33m\u001b[0m\u001b[0m\n\u001b[0m\u001b[0;32m    217\u001b[0m         \u001b[1;32melif\u001b[0m \u001b[0mlen\u001b[0m\u001b[1;33m(\u001b[0m\u001b[0mcircuits\u001b[0m\u001b[1;33m)\u001b[0m \u001b[1;33m==\u001b[0m \u001b[1;36m1\u001b[0m\u001b[1;33m:\u001b[0m\u001b[1;33m\u001b[0m\u001b[1;33m\u001b[0m\u001b[0m\n\u001b[0;32m    218\u001b[0m             \u001b[1;32mreturn\u001b[0m \u001b[0mself\u001b[0m\u001b[1;33m.\u001b[0m\u001b[0m_run_single_circuit\u001b[0m\u001b[1;33m(\u001b[0m\u001b[0mcircuits\u001b[0m\u001b[1;33m[\u001b[0m\u001b[1;36m0\u001b[0m\u001b[1;33m]\u001b[0m\u001b[1;33m,\u001b[0m \u001b[0moutput_name\u001b[0m\u001b[1;33m,\u001b[0m \u001b[0mcallback\u001b[0m\u001b[1;33m)\u001b[0m\u001b[1;33m\u001b[0m\u001b[1;33m\u001b[0m\u001b[0m\n",
      "\u001b[1;32m~\\anaconda3\\envs\\Qiskit\\lib\\site-packages\\qiskit\\transpiler\\passmanager.py\u001b[0m in \u001b[0;36m_run_single_circuit\u001b[1;34m(self, circuit, output_name, callback)\u001b[0m\n\u001b[0;32m    275\u001b[0m         \"\"\"\n\u001b[0;32m    276\u001b[0m         \u001b[0mrunning_passmanager\u001b[0m \u001b[1;33m=\u001b[0m \u001b[0mself\u001b[0m\u001b[1;33m.\u001b[0m\u001b[0m_create_running_passmanager\u001b[0m\u001b[1;33m(\u001b[0m\u001b[1;33m)\u001b[0m\u001b[1;33m\u001b[0m\u001b[1;33m\u001b[0m\u001b[0m\n\u001b[1;32m--> 277\u001b[1;33m         \u001b[0mresult\u001b[0m \u001b[1;33m=\u001b[0m \u001b[0mrunning_passmanager\u001b[0m\u001b[1;33m.\u001b[0m\u001b[0mrun\u001b[0m\u001b[1;33m(\u001b[0m\u001b[0mcircuit\u001b[0m\u001b[1;33m,\u001b[0m \u001b[0moutput_name\u001b[0m\u001b[1;33m=\u001b[0m\u001b[0moutput_name\u001b[0m\u001b[1;33m,\u001b[0m \u001b[0mcallback\u001b[0m\u001b[1;33m=\u001b[0m\u001b[0mcallback\u001b[0m\u001b[1;33m)\u001b[0m\u001b[1;33m\u001b[0m\u001b[1;33m\u001b[0m\u001b[0m\n\u001b[0m\u001b[0;32m    278\u001b[0m         \u001b[0mself\u001b[0m\u001b[1;33m.\u001b[0m\u001b[0mproperty_set\u001b[0m \u001b[1;33m=\u001b[0m \u001b[0mrunning_passmanager\u001b[0m\u001b[1;33m.\u001b[0m\u001b[0mproperty_set\u001b[0m\u001b[1;33m\u001b[0m\u001b[1;33m\u001b[0m\u001b[0m\n\u001b[0;32m    279\u001b[0m         \u001b[1;32mreturn\u001b[0m \u001b[0mresult\u001b[0m\u001b[1;33m\u001b[0m\u001b[1;33m\u001b[0m\u001b[0m\n",
      "\u001b[1;32m~\\anaconda3\\envs\\Qiskit\\lib\\site-packages\\qiskit\\transpiler\\runningpassmanager.py\u001b[0m in \u001b[0;36mrun\u001b[1;34m(***failed resolving arguments***)\u001b[0m\n\u001b[0;32m    120\u001b[0m         \u001b[1;32mfor\u001b[0m \u001b[0mpassset\u001b[0m \u001b[1;32min\u001b[0m \u001b[0mself\u001b[0m\u001b[1;33m.\u001b[0m\u001b[0mworking_list\u001b[0m\u001b[1;33m:\u001b[0m\u001b[1;33m\u001b[0m\u001b[1;33m\u001b[0m\u001b[0m\n\u001b[0;32m    121\u001b[0m             \u001b[1;32mfor\u001b[0m \u001b[0mpass_\u001b[0m \u001b[1;32min\u001b[0m \u001b[0mpassset\u001b[0m\u001b[1;33m:\u001b[0m\u001b[1;33m\u001b[0m\u001b[1;33m\u001b[0m\u001b[0m\n\u001b[1;32m--> 122\u001b[1;33m                 \u001b[0mdag\u001b[0m \u001b[1;33m=\u001b[0m \u001b[0mself\u001b[0m\u001b[1;33m.\u001b[0m\u001b[0m_do_pass\u001b[0m\u001b[1;33m(\u001b[0m\u001b[0mpass_\u001b[0m\u001b[1;33m,\u001b[0m \u001b[0mdag\u001b[0m\u001b[1;33m,\u001b[0m \u001b[0mpassset\u001b[0m\u001b[1;33m.\u001b[0m\u001b[0moptions\u001b[0m\u001b[1;33m)\u001b[0m\u001b[1;33m\u001b[0m\u001b[1;33m\u001b[0m\u001b[0m\n\u001b[0m\u001b[0;32m    123\u001b[0m \u001b[1;33m\u001b[0m\u001b[0m\n\u001b[0;32m    124\u001b[0m         \u001b[0mcircuit\u001b[0m \u001b[1;33m=\u001b[0m \u001b[0mdag_to_circuit\u001b[0m\u001b[1;33m(\u001b[0m\u001b[0mdag\u001b[0m\u001b[1;33m)\u001b[0m\u001b[1;33m\u001b[0m\u001b[1;33m\u001b[0m\u001b[0m\n",
      "\u001b[1;32m~\\anaconda3\\envs\\Qiskit\\lib\\site-packages\\qiskit\\transpiler\\runningpassmanager.py\u001b[0m in \u001b[0;36m_do_pass\u001b[1;34m(self, pass_, dag, options)\u001b[0m\n\u001b[0;32m    151\u001b[0m         \u001b[1;31m# Run the pass itself, if not already run\u001b[0m\u001b[1;33m\u001b[0m\u001b[1;33m\u001b[0m\u001b[1;33m\u001b[0m\u001b[0m\n\u001b[0;32m    152\u001b[0m         \u001b[1;32mif\u001b[0m \u001b[0mpass_\u001b[0m \u001b[1;32mnot\u001b[0m \u001b[1;32min\u001b[0m \u001b[0mself\u001b[0m\u001b[1;33m.\u001b[0m\u001b[0mvalid_passes\u001b[0m\u001b[1;33m:\u001b[0m\u001b[1;33m\u001b[0m\u001b[1;33m\u001b[0m\u001b[0m\n\u001b[1;32m--> 153\u001b[1;33m             \u001b[0mdag\u001b[0m \u001b[1;33m=\u001b[0m \u001b[0mself\u001b[0m\u001b[1;33m.\u001b[0m\u001b[0m_run_this_pass\u001b[0m\u001b[1;33m(\u001b[0m\u001b[0mpass_\u001b[0m\u001b[1;33m,\u001b[0m \u001b[0mdag\u001b[0m\u001b[1;33m)\u001b[0m\u001b[1;33m\u001b[0m\u001b[1;33m\u001b[0m\u001b[0m\n\u001b[0m\u001b[0;32m    154\u001b[0m \u001b[1;33m\u001b[0m\u001b[0m\n\u001b[0;32m    155\u001b[0m             \u001b[1;31m# update the valid_passes property\u001b[0m\u001b[1;33m\u001b[0m\u001b[1;33m\u001b[0m\u001b[1;33m\u001b[0m\u001b[0m\n",
      "\u001b[1;32m~\\anaconda3\\envs\\Qiskit\\lib\\site-packages\\qiskit\\transpiler\\runningpassmanager.py\u001b[0m in \u001b[0;36m_run_this_pass\u001b[1;34m(self, pass_, dag)\u001b[0m\n\u001b[0;32m    163\u001b[0m             \u001b[1;31m# Measure time if we have a callback or logging set\u001b[0m\u001b[1;33m\u001b[0m\u001b[1;33m\u001b[0m\u001b[1;33m\u001b[0m\u001b[0m\n\u001b[0;32m    164\u001b[0m             \u001b[0mstart_time\u001b[0m \u001b[1;33m=\u001b[0m \u001b[0mtime\u001b[0m\u001b[1;33m(\u001b[0m\u001b[1;33m)\u001b[0m\u001b[1;33m\u001b[0m\u001b[1;33m\u001b[0m\u001b[0m\n\u001b[1;32m--> 165\u001b[1;33m             \u001b[0mnew_dag\u001b[0m \u001b[1;33m=\u001b[0m \u001b[0mpass_\u001b[0m\u001b[1;33m.\u001b[0m\u001b[0mrun\u001b[0m\u001b[1;33m(\u001b[0m\u001b[0mdag\u001b[0m\u001b[1;33m)\u001b[0m\u001b[1;33m\u001b[0m\u001b[1;33m\u001b[0m\u001b[0m\n\u001b[0m\u001b[0;32m    166\u001b[0m             \u001b[0mend_time\u001b[0m \u001b[1;33m=\u001b[0m \u001b[0mtime\u001b[0m\u001b[1;33m(\u001b[0m\u001b[1;33m)\u001b[0m\u001b[1;33m\u001b[0m\u001b[1;33m\u001b[0m\u001b[0m\n\u001b[0;32m    167\u001b[0m             \u001b[0mrun_time\u001b[0m \u001b[1;33m=\u001b[0m \u001b[0mend_time\u001b[0m \u001b[1;33m-\u001b[0m \u001b[0mstart_time\u001b[0m\u001b[1;33m\u001b[0m\u001b[1;33m\u001b[0m\u001b[0m\n",
      "\u001b[1;32m~\\anaconda3\\envs\\Qiskit\\lib\\site-packages\\qiskit\\transpiler\\passes\\optimization\\optimize_1q_decomposition.py\u001b[0m in \u001b[0;36mrun\u001b[1;34m(self, dag)\u001b[0m\n\u001b[0;32m     97\u001b[0m             \u001b[0moperator\u001b[0m \u001b[1;33m=\u001b[0m \u001b[0mrun\u001b[0m\u001b[1;33m[\u001b[0m\u001b[1;36m0\u001b[0m\u001b[1;33m]\u001b[0m\u001b[1;33m.\u001b[0m\u001b[0mop\u001b[0m\u001b[1;33m.\u001b[0m\u001b[0mto_matrix\u001b[0m\u001b[1;33m(\u001b[0m\u001b[1;33m)\u001b[0m\u001b[1;33m\u001b[0m\u001b[1;33m\u001b[0m\u001b[0m\n\u001b[0;32m     98\u001b[0m             \u001b[1;32mfor\u001b[0m \u001b[0mgate\u001b[0m \u001b[1;32min\u001b[0m \u001b[0mrun\u001b[0m\u001b[1;33m[\u001b[0m\u001b[1;36m1\u001b[0m\u001b[1;33m:\u001b[0m\u001b[1;33m]\u001b[0m\u001b[1;33m:\u001b[0m\u001b[1;33m\u001b[0m\u001b[1;33m\u001b[0m\u001b[0m\n\u001b[1;32m---> 99\u001b[1;33m                 \u001b[0moperator\u001b[0m \u001b[1;33m=\u001b[0m \u001b[0mgate\u001b[0m\u001b[1;33m.\u001b[0m\u001b[0mop\u001b[0m\u001b[1;33m.\u001b[0m\u001b[0mto_matrix\u001b[0m\u001b[1;33m(\u001b[0m\u001b[1;33m)\u001b[0m\u001b[1;33m.\u001b[0m\u001b[0mdot\u001b[0m\u001b[1;33m(\u001b[0m\u001b[0moperator\u001b[0m\u001b[1;33m)\u001b[0m\u001b[1;33m\u001b[0m\u001b[1;33m\u001b[0m\u001b[0m\n\u001b[0m\u001b[0;32m    100\u001b[0m             \u001b[1;32mfor\u001b[0m \u001b[0mdecomposer\u001b[0m \u001b[1;32min\u001b[0m \u001b[0mself\u001b[0m\u001b[1;33m.\u001b[0m\u001b[0mbasis\u001b[0m\u001b[1;33m:\u001b[0m\u001b[1;33m\u001b[0m\u001b[1;33m\u001b[0m\u001b[0m\n\u001b[0;32m    101\u001b[0m                 \u001b[0mnew_circs\u001b[0m\u001b[1;33m.\u001b[0m\u001b[0mappend\u001b[0m\u001b[1;33m(\u001b[0m\u001b[0mdecomposer\u001b[0m\u001b[1;33m.\u001b[0m\u001b[0m_decompose\u001b[0m\u001b[1;33m(\u001b[0m\u001b[0moperator\u001b[0m\u001b[1;33m)\u001b[0m\u001b[1;33m)\u001b[0m\u001b[1;33m\u001b[0m\u001b[1;33m\u001b[0m\u001b[0m\n",
      "\u001b[1;31mKeyboardInterrupt\u001b[0m: "
     ]
    }
   ],
   "source": [
    "learning_rate=[round(((i+1)/10)**2,2) for i in range(20)]\n",
    "for l in learning_rate \n",
    "# Create the QNN\n",
    "qnn = CircuitQNN(qc, input_params=feature_map.parameters, weight_params=ansatz.parameters, \n",
    "                  interpret=parity, output_shape=output_shape, quantum_instance=qi)\n",
    "\n",
    "# Set up the pyTorch model\n",
    "np.random.seed(0)  \n",
    "initial_weights = 0.1*(2*np.random.rand(qnn.num_weights) - 1)\n",
    "model = TorchConnector(qnn, initial_weights)\n",
    "\n",
    "# define optimizer and loss function\n",
    "optimizer = optim.SGD(model.parameters(),lr=learning_rate)\n",
    "f_loss = MSELoss(reduction='mean')\n",
    "\n",
    "# Set model to training mode\n",
    "model.train()   \n",
    "    \n",
    "print(\"Learning Rate is \", learning_rate)\n",
    "for epoch in range(epochs):\n",
    "    optimizer.zero_grad()        # initialize gradient\n",
    "    loss = 0.0                                             # initialize loss    \n",
    "    for x, y_target in zip(train_X, train_y):                        # evaluate batch loss\n",
    "        output = model(Tensor(x)).reshape(1, 2)           # forward pass\n",
    "        targets=Tensor([y_target]).long()\n",
    "        targets = targets.to(torch.float32)\n",
    "        loss += f_loss(output, targets) \n",
    "    loss.backward()                              # backward pass\n",
    "    print(\"__Loss is \",loss.item())                           # print loss\n",
    "\n",
    "    # run optimizer\n",
    "    optimizer.step() "
   ]
  },
  {
   "cell_type": "markdown",
   "id": "8f233607",
   "metadata": {},
   "source": [
    "# Evaluate the accuracy of the trained network\n",
    "\n",
    "We'll make plots of the different data sets, and circle which data points the trained model gets wrong.\n",
    "We'll also title each plot with the value of the accuracy of the model on that data set."
   ]
  },
  {
   "cell_type": "code",
   "execution_count": null,
   "id": "b964ccb5",
   "metadata": {
    "scrolled": false
   },
   "outputs": [],
   "source": [
    "def make_accuracy_plot(X_data, y_target, model, ax):\n",
    "    output = model(X_data)\n",
    "    predictions = np.array([np.argmax(x) for x in output.detach().numpy()])\n",
    "    for x, y_tar, y_pred in zip(X_data, y_target, predictions):\n",
    "        if y_tar == 1:\n",
    "            ax.plot(x[0], x[1], 'bo')\n",
    "        else:\n",
    "            ax.plot(x[0], x[1], 'go')\n",
    "        if y_tar != y_pred:\n",
    "            ax.scatter(x[0], x[1], s=200, facecolors='none', edgecolors='y', linewidths=2)\n",
    "\n",
    "\n",
    "    X1 = np.linspace(0, 1, num=10)\n",
    "    Z1 = np.zeros((len(X1), len(X1)))\n",
    "\n",
    "    # Contour map\n",
    "    for j in range(len(X1)):\n",
    "        for k in range(len(X1)):\n",
    "            # Fill Z with the labels (numerical values)\n",
    "            # the inner loop goes over the columns of Z,\n",
    "            # which corresponds to sweeping x-values\n",
    "            # Therefore, the role of j,k is flipped in the signature\n",
    "            Z1[j, k] = np.argmax(model(Tensor([X1[k],X1[j],X1[k],X1[j]])).detach().numpy())\n",
    "\n",
    "    ax.contourf(X1, X1, Z1, levels=30, zorder=-1, cmap='bwr')\n",
    "\n",
    "    accuracy = np.round(sum(predictions == y_target)/len(y_target), 4)\n",
    "\n",
    "    return ax, accuracy"
   ]
  },
  {
   "cell_type": "code",
   "execution_count": null,
   "id": "38b01166",
   "metadata": {},
   "outputs": [],
   "source": [
    "fig = plt.figure(figsize=(15, 5))\n",
    "\n",
    "ax1 = fig.add_subplot(1, 3, 1)\n",
    "ax2 = fig.add_subplot(1, 3, 2)\n",
    "ax3 = fig.add_subplot(1, 3, 3)\n",
    "\n",
    "ax1, accuracy1 = make_accuracy_plot(train_X, train_y, model, ax1)\n",
    "ax2, accuracy2 = make_accuracy_plot(validate_X, validate_y, model, ax2)\n",
    "ax3, accuracy3 = make_accuracy_plot(test_X, test_y, model, ax3)\n",
    "\n",
    "ax1.set_title('Train: {0}'.format(accuracy1))\n",
    "ax2.set_title('Validate: {0}'.format(accuracy2))\n",
    "ax3.set_title('Test: {0}'.format(accuracy3))"
   ]
  },
  {
   "cell_type": "code",
   "execution_count": null,
   "id": "b26fe401",
   "metadata": {},
   "outputs": [],
   "source": []
  }
 ],
 "metadata": {
  "kernelspec": {
   "display_name": "Python 3",
   "language": "python",
   "name": "python3"
  },
  "language_info": {
   "codemirror_mode": {
    "name": "ipython",
    "version": 3
   },
   "file_extension": ".py",
   "mimetype": "text/x-python",
   "name": "python",
   "nbconvert_exporter": "python",
   "pygments_lexer": "ipython3",
   "version": "3.8.8"
  }
 },
 "nbformat": 4,
 "nbformat_minor": 5
}
