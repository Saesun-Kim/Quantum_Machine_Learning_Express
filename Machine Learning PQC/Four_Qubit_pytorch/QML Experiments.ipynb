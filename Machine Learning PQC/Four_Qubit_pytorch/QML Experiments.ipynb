{
 "cells": [
  {
   "cell_type": "markdown",
   "id": "4afa6a21",
   "metadata": {},
   "source": [
    "The purpose of this notebook is to provide a unified interface to our code for doing data generation.\n",
    "\n",
    "We plan to do experiment with the following things:\n",
    "\n",
    "**Circuit**\n",
    "\n",
    "We will use circuits 1, 6, 9, and 14, as they cover a variety of circuit expressibilities and entangling capabilities.\n",
    "\n",
    "| | High Ent | Low Ent |\n",
    "| --- | --- | --- |\n",
    "| High Exp|6 | 14 |\n",
    "|Low Exp| 9 | 1 |\n",
    "\n",
    "**Data sets**\n",
    "\n",
    "We will use 4 data sets:\n",
    "\n",
    "* Data set 0 (2 blobs, separable)\n",
    "* Data set 1 (2 blobs, inseparable)\n",
    "* Data set 2a (4 blobs, separable)\n",
    "* Data set y (3 or 4 blobs, inseparable) <-- Saesun's choice\n",
    "\n",
    "**Learning rates**\n",
    "\n",
    "We will investigate several learning rates.\n",
    "\n",
    "----------------\n",
    "\n",
    "The code below will help us set up our experiments."
   ]
  },
  {
   "cell_type": "code",
   "execution_count": 1,
   "id": "769a087c",
   "metadata": {},
   "outputs": [],
   "source": [
    "# The code below is a hack in case Travis' kernel fails.\n",
    "#import os\n",
    "#os.environ['KMP_DUPLICATE_LIB_OK'] ='True'\n",
    "\n",
    "# Pull in the helper files.\n",
    "%run experiments"
   ]
  },
  {
   "cell_type": "code",
   "execution_count": 5,
   "id": "eaaa32a4",
   "metadata": {},
   "outputs": [],
   "source": [
    "# Set up the experiment\n",
    "circuitID = 1\n",
    "dataSetID = '0'\n",
    "learning_rate = .5\n",
    "epochs = 1"
   ]
  },
  {
   "cell_type": "code",
   "execution_count": 8,
   "id": "fd0980fd",
   "metadata": {},
   "outputs": [
    {
     "ename": "AttributeError",
     "evalue": "'NoneType' object has no attribute 'width'",
     "output_type": "error",
     "traceback": [
      "\u001b[0;31m---------------------------------------------------------------------------\u001b[0m",
      "\u001b[0;31mAttributeError\u001b[0m                            Traceback (most recent call last)",
      "\u001b[0;32m<ipython-input-8-01bca09c358f>\u001b[0m in \u001b[0;36m<module>\u001b[0;34m\u001b[0m\n\u001b[1;32m     12\u001b[0m \u001b[0;34m\u001b[0m\u001b[0m\n\u001b[1;32m     13\u001b[0m \u001b[0;31m# Do the training\u001b[0m\u001b[0;34m\u001b[0m\u001b[0;34m\u001b[0m\u001b[0;34m\u001b[0m\u001b[0m\n\u001b[0;32m---> 14\u001b[0;31m \u001b[0mmodel\u001b[0m \u001b[0;34m=\u001b[0m \u001b[0mtrain_model\u001b[0m\u001b[0;34m(\u001b[0m\u001b[0mfeature_map\u001b[0m\u001b[0;34m,\u001b[0m \u001b[0mansatz\u001b[0m\u001b[0;34m,\u001b[0m \u001b[0mepochs\u001b[0m\u001b[0;34m,\u001b[0m \u001b[0mlearning_rate\u001b[0m\u001b[0;34m,\u001b[0m \u001b[0mtrain_X\u001b[0m\u001b[0;34m,\u001b[0m \u001b[0mtrain_y\u001b[0m\u001b[0;34m)\u001b[0m\u001b[0;34m\u001b[0m\u001b[0;34m\u001b[0m\u001b[0m\n\u001b[0m\u001b[1;32m     15\u001b[0m \u001b[0;34m\u001b[0m\u001b[0m\n\u001b[1;32m     16\u001b[0m \u001b[0;31m# Check the validation accuracy.\u001b[0m\u001b[0;34m\u001b[0m\u001b[0;34m\u001b[0m\u001b[0;34m\u001b[0m\u001b[0m\n",
      "\u001b[0;32m~/Desktop/Quantum_Machine_Learning_Express/Machine Learning PQC/Four_Qubit_pytorch/experiments.py\u001b[0m in \u001b[0;36mtrain_model\u001b[0;34m(feature_map, ansatz, epochs, learning_rate, train_X, train_y, qi)\u001b[0m\n\u001b[1;32m    115\u001b[0m \u001b[0;32mdef\u001b[0m \u001b[0mtrain_model\u001b[0m\u001b[0;34m(\u001b[0m\u001b[0mfeature_map\u001b[0m\u001b[0;34m,\u001b[0m \u001b[0mansatz\u001b[0m\u001b[0;34m,\u001b[0m \u001b[0mepochs\u001b[0m\u001b[0;34m,\u001b[0m \u001b[0mlearning_rate\u001b[0m\u001b[0;34m,\u001b[0m \u001b[0mtrain_X\u001b[0m\u001b[0;34m,\u001b[0m \u001b[0mtrain_y\u001b[0m\u001b[0;34m,\u001b[0m \u001b[0mqi\u001b[0m\u001b[0;34m=\u001b[0m\u001b[0mQuantumInstance\u001b[0m\u001b[0;34m(\u001b[0m\u001b[0mAer\u001b[0m\u001b[0;34m.\u001b[0m\u001b[0mget_backend\u001b[0m\u001b[0;34m(\u001b[0m\u001b[0;34m'statevector_simulator'\u001b[0m\u001b[0;34m)\u001b[0m\u001b[0;34m)\u001b[0m\u001b[0;34m)\u001b[0m\u001b[0;34m:\u001b[0m\u001b[0;34m\u001b[0m\u001b[0;34m\u001b[0m\u001b[0m\n\u001b[1;32m    116\u001b[0m \u001b[0;34m\u001b[0m\u001b[0m\n\u001b[0;32m--> 117\u001b[0;31m     \u001b[0mqc\u001b[0m \u001b[0;34m=\u001b[0m \u001b[0mQuantumCircuit\u001b[0m\u001b[0;34m(\u001b[0m\u001b[0mansatz\u001b[0m\u001b[0;34m.\u001b[0m\u001b[0mwidth\u001b[0m\u001b[0;34m(\u001b[0m\u001b[0;34m)\u001b[0m\u001b[0;34m)\u001b[0m\u001b[0;34m\u001b[0m\u001b[0;34m\u001b[0m\u001b[0m\n\u001b[0m\u001b[1;32m    118\u001b[0m     \u001b[0mqc\u001b[0m\u001b[0;34m.\u001b[0m\u001b[0mappend\u001b[0m\u001b[0;34m(\u001b[0m\u001b[0mfeature_map\u001b[0m\u001b[0;34m,\u001b[0m \u001b[0mrange\u001b[0m\u001b[0;34m(\u001b[0m\u001b[0mansatz\u001b[0m\u001b[0;34m.\u001b[0m\u001b[0mwidth\u001b[0m\u001b[0;34m(\u001b[0m\u001b[0;34m)\u001b[0m\u001b[0;34m)\u001b[0m\u001b[0;34m)\u001b[0m\u001b[0;34m\u001b[0m\u001b[0;34m\u001b[0m\u001b[0m\n\u001b[1;32m    119\u001b[0m     \u001b[0mqc\u001b[0m\u001b[0;34m.\u001b[0m\u001b[0mappend\u001b[0m\u001b[0;34m(\u001b[0m\u001b[0mansatz\u001b[0m\u001b[0;34m,\u001b[0m \u001b[0mrange\u001b[0m\u001b[0;34m(\u001b[0m\u001b[0mansatz\u001b[0m\u001b[0;34m.\u001b[0m\u001b[0mwidth\u001b[0m\u001b[0;34m(\u001b[0m\u001b[0;34m)\u001b[0m\u001b[0;34m)\u001b[0m\u001b[0;34m)\u001b[0m\u001b[0;34m\u001b[0m\u001b[0;34m\u001b[0m\u001b[0m\n",
      "\u001b[0;31mAttributeError\u001b[0m: 'NoneType' object has no attribute 'width'"
     ]
    }
   ],
   "source": [
    "# Run the experiment\n",
    "\n",
    "# Load in the data\n",
    "data = load_data(dataSetID)\n",
    "\n",
    "# Generate the splittings\n",
    "train_X, train_y, validate_X, validate_y, test_X, test_y = generate_train_validate_test_data(data)\n",
    "\n",
    "# Make the feature map\n",
    "feature_map= make_embedding_circuit()\n",
    "\n",
    "# Make the classifier\n",
    "ansatz = make_classifer_circuit(circuitID)\n",
    "\n",
    "# Do the training\n",
    "model = train_model(feature_map, ansatz, epochs, learning_rate, train_X, train_y)\n",
    "\n",
    "# Check the validation accuracy.\n",
    "val_accuracy = check_accuracy(model, validate_X, validate_y)\n",
    "\n",
    "print(circuitID, dataSetID, learning_rate, val_accuracy)"
   ]
  },
  {
   "cell_type": "code",
   "execution_count": null,
   "id": "bb2b266f",
   "metadata": {},
   "outputs": [],
   "source": [
    "if __name__ == '__main__':\n",
    "\n",
    "    \n"
   ]
  }
 ],
 "metadata": {
  "kernelspec": {
   "display_name": "Python 3",
   "language": "python",
   "name": "python3"
  },
  "language_info": {
   "codemirror_mode": {
    "name": "ipython",
    "version": 3
   },
   "file_extension": ".py",
   "mimetype": "text/x-python",
   "name": "python",
   "nbconvert_exporter": "python",
   "pygments_lexer": "ipython3",
   "version": "3.9.2"
  }
 },
 "nbformat": 4,
 "nbformat_minor": 5
}
