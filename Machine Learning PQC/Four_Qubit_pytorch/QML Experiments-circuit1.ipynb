{
 "cells": [
  {
   "cell_type": "markdown",
   "id": "82ef44f6",
   "metadata": {},
   "source": [
    "The purpose of this notebook is to provide a unified interface to our code for doing data generation.\n",
    "\n",
    "We plan to do experiment with the following things:\n",
    "\n",
    "**Circuit**\n",
    "\n",
    "We will use circuits 1, 6, 9, and 14, as they cover a variety of circuit expressibilities and entangling capabilities.\n",
    "\n",
    "| | High Ent | Low Ent |\n",
    "| --- | --- | --- |\n",
    "| High Exp|6 | 14 |\n",
    "|Low Exp| 9 | 1 |\n",
    "\n",
    "**Data sets**\n",
    "\n",
    "We will use 4 data sets:\n",
    "\n",
    "* Data set 0 (2 blobs, separable)\n",
    "* Data set 1 (2 blobs, inseparable)\n",
    "* Data set 2a (4 blobs, separable)\n",
    "* Data set 3c (4 blobs) <-- Saesun's choice\n",
    "\n",
    "**Learning rates**\n",
    "\n",
    "We will investigate several learning rates.\n",
    "\n",
    "----------------\n",
    "\n",
    "The code below will help us set up our experiments."
   ]
  },
  {
   "cell_type": "code",
   "execution_count": 1,
   "id": "f8b487df",
   "metadata": {},
   "outputs": [
    {
     "ename": "ModuleNotFoundError",
     "evalue": "No module named 'scipy.linalg'",
     "output_type": "error",
     "traceback": [
      "\u001b[1;31m---------------------------------------------------------------------------\u001b[0m",
      "\u001b[1;31mModuleNotFoundError\u001b[0m                       Traceback (most recent call last)",
      "\u001b[1;32m~\\Documents\\GitHub\\Quantum_Machine_Learning_Express\\Machine Learning PQC\\Four_Qubit_pytorch\\experiments.py\u001b[0m in \u001b[0;36m<module>\u001b[1;34m\u001b[0m\n\u001b[0;32m     11\u001b[0m \u001b[1;33m\u001b[0m\u001b[0m\n\u001b[0;32m     12\u001b[0m \u001b[1;33m\u001b[0m\u001b[0m\n\u001b[1;32m---> 13\u001b[1;33m \u001b[1;32mfrom\u001b[0m \u001b[0mqiskit\u001b[0m\u001b[1;33m.\u001b[0m\u001b[0mcircuit\u001b[0m \u001b[1;32mimport\u001b[0m \u001b[0mParameter\u001b[0m\u001b[1;33m\u001b[0m\u001b[1;33m\u001b[0m\u001b[0m\n\u001b[0m\u001b[0;32m     14\u001b[0m \u001b[1;32mfrom\u001b[0m \u001b[0mqiskit\u001b[0m  \u001b[1;32mimport\u001b[0m \u001b[0mAer\u001b[0m\u001b[1;33m,\u001b[0m \u001b[0mQuantumCircuit\u001b[0m\u001b[1;33m\u001b[0m\u001b[1;33m\u001b[0m\u001b[0m\n\u001b[0;32m     15\u001b[0m \u001b[1;32mfrom\u001b[0m \u001b[0mqiskit\u001b[0m\u001b[1;33m.\u001b[0m\u001b[0mutils\u001b[0m \u001b[1;32mimport\u001b[0m \u001b[0mQuantumInstance\u001b[0m\u001b[1;33m\u001b[0m\u001b[1;33m\u001b[0m\u001b[0m\n",
      "\u001b[1;32m~\\Anaconda3\\lib\\site-packages\\qiskit\\__init__.py\u001b[0m in \u001b[0;36m<module>\u001b[1;34m\u001b[0m\n\u001b[0;32m     25\u001b[0m \u001b[1;33m\u001b[0m\u001b[0m\n\u001b[0;32m     26\u001b[0m \u001b[1;31m# The main qiskit operators\u001b[0m\u001b[1;33m\u001b[0m\u001b[1;33m\u001b[0m\u001b[1;33m\u001b[0m\u001b[0m\n\u001b[1;32m---> 27\u001b[1;33m \u001b[1;32mfrom\u001b[0m \u001b[0mqiskit\u001b[0m\u001b[1;33m.\u001b[0m\u001b[0mcircuit\u001b[0m \u001b[1;32mimport\u001b[0m \u001b[0mClassicalRegister\u001b[0m\u001b[1;33m\u001b[0m\u001b[1;33m\u001b[0m\u001b[0m\n\u001b[0m\u001b[0;32m     28\u001b[0m \u001b[1;32mfrom\u001b[0m \u001b[0mqiskit\u001b[0m\u001b[1;33m.\u001b[0m\u001b[0mcircuit\u001b[0m \u001b[1;32mimport\u001b[0m \u001b[0mQuantumRegister\u001b[0m\u001b[1;33m\u001b[0m\u001b[1;33m\u001b[0m\u001b[0m\n\u001b[0;32m     29\u001b[0m \u001b[1;32mfrom\u001b[0m \u001b[0mqiskit\u001b[0m\u001b[1;33m.\u001b[0m\u001b[0mcircuit\u001b[0m \u001b[1;32mimport\u001b[0m \u001b[0mAncillaRegister\u001b[0m\u001b[1;33m\u001b[0m\u001b[1;33m\u001b[0m\u001b[0m\n",
      "\u001b[1;32m~\\Anaconda3\\lib\\site-packages\\qiskit\\circuit\\__init__.py\u001b[0m in \u001b[0;36m<module>\u001b[1;34m\u001b[0m\n\u001b[0;32m    212\u001b[0m    \u001b[0mrandom\u001b[0m\u001b[1;33m.\u001b[0m\u001b[0mrandom_circuit\u001b[0m\u001b[1;33m\u001b[0m\u001b[1;33m\u001b[0m\u001b[0m\n\u001b[0;32m    213\u001b[0m \"\"\"\n\u001b[1;32m--> 214\u001b[1;33m \u001b[1;32mfrom\u001b[0m \u001b[1;33m.\u001b[0m\u001b[0mquantumcircuit\u001b[0m \u001b[1;32mimport\u001b[0m \u001b[0mQuantumCircuit\u001b[0m\u001b[1;33m\u001b[0m\u001b[1;33m\u001b[0m\u001b[0m\n\u001b[0m\u001b[0;32m    215\u001b[0m \u001b[1;32mfrom\u001b[0m \u001b[1;33m.\u001b[0m\u001b[0mclassicalregister\u001b[0m \u001b[1;32mimport\u001b[0m \u001b[0mClassicalRegister\u001b[0m\u001b[1;33m,\u001b[0m \u001b[0mClbit\u001b[0m\u001b[1;33m\u001b[0m\u001b[1;33m\u001b[0m\u001b[0m\n\u001b[0;32m    216\u001b[0m \u001b[1;32mfrom\u001b[0m \u001b[1;33m.\u001b[0m\u001b[0mquantumregister\u001b[0m \u001b[1;32mimport\u001b[0m \u001b[0mQuantumRegister\u001b[0m\u001b[1;33m,\u001b[0m \u001b[0mQubit\u001b[0m\u001b[1;33m,\u001b[0m \u001b[0mAncillaRegister\u001b[0m\u001b[1;33m,\u001b[0m \u001b[0mAncillaQubit\u001b[0m\u001b[1;33m\u001b[0m\u001b[1;33m\u001b[0m\u001b[0m\n",
      "\u001b[1;32m~\\Anaconda3\\lib\\site-packages\\qiskit\\circuit\\quantumcircuit.py\u001b[0m in \u001b[0;36m<module>\u001b[1;34m\u001b[0m\n\u001b[0;32m     27\u001b[0m \u001b[1;32mfrom\u001b[0m \u001b[0mqiskit\u001b[0m\u001b[1;33m.\u001b[0m\u001b[0mutils\u001b[0m\u001b[1;33m.\u001b[0m\u001b[0mmultiprocessing\u001b[0m \u001b[1;32mimport\u001b[0m \u001b[0mis_main_process\u001b[0m\u001b[1;33m\u001b[0m\u001b[1;33m\u001b[0m\u001b[0m\n\u001b[0;32m     28\u001b[0m \u001b[1;32mfrom\u001b[0m \u001b[0mqiskit\u001b[0m\u001b[1;33m.\u001b[0m\u001b[0mcircuit\u001b[0m\u001b[1;33m.\u001b[0m\u001b[0minstruction\u001b[0m \u001b[1;32mimport\u001b[0m \u001b[0mInstruction\u001b[0m\u001b[1;33m\u001b[0m\u001b[1;33m\u001b[0m\u001b[0m\n\u001b[1;32m---> 29\u001b[1;33m \u001b[1;32mfrom\u001b[0m \u001b[0mqiskit\u001b[0m\u001b[1;33m.\u001b[0m\u001b[0mcircuit\u001b[0m\u001b[1;33m.\u001b[0m\u001b[0mgate\u001b[0m \u001b[1;32mimport\u001b[0m \u001b[0mGate\u001b[0m\u001b[1;33m\u001b[0m\u001b[1;33m\u001b[0m\u001b[0m\n\u001b[0m\u001b[0;32m     30\u001b[0m \u001b[1;32mfrom\u001b[0m \u001b[0mqiskit\u001b[0m\u001b[1;33m.\u001b[0m\u001b[0mcircuit\u001b[0m\u001b[1;33m.\u001b[0m\u001b[0mparameter\u001b[0m \u001b[1;32mimport\u001b[0m \u001b[0mParameter\u001b[0m\u001b[1;33m\u001b[0m\u001b[1;33m\u001b[0m\u001b[0m\n\u001b[0;32m     31\u001b[0m \u001b[1;32mfrom\u001b[0m \u001b[0mqiskit\u001b[0m\u001b[1;33m.\u001b[0m\u001b[0mqasm\u001b[0m\u001b[1;33m.\u001b[0m\u001b[0mqasm\u001b[0m \u001b[1;32mimport\u001b[0m \u001b[0mQasm\u001b[0m\u001b[1;33m\u001b[0m\u001b[1;33m\u001b[0m\u001b[0m\n",
      "\u001b[1;32m~\\Anaconda3\\lib\\site-packages\\qiskit\\circuit\\gate.py\u001b[0m in \u001b[0;36m<module>\u001b[1;34m\u001b[0m\n\u001b[0;32m     16\u001b[0m \u001b[1;32mfrom\u001b[0m \u001b[0mtyping\u001b[0m \u001b[1;32mimport\u001b[0m \u001b[0mList\u001b[0m\u001b[1;33m,\u001b[0m \u001b[0mOptional\u001b[0m\u001b[1;33m,\u001b[0m \u001b[0mUnion\u001b[0m\u001b[1;33m,\u001b[0m \u001b[0mTuple\u001b[0m\u001b[1;33m\u001b[0m\u001b[1;33m\u001b[0m\u001b[0m\n\u001b[0;32m     17\u001b[0m \u001b[1;32mimport\u001b[0m \u001b[0mnumpy\u001b[0m \u001b[1;32mas\u001b[0m \u001b[0mnp\u001b[0m\u001b[1;33m\u001b[0m\u001b[1;33m\u001b[0m\u001b[0m\n\u001b[1;32m---> 18\u001b[1;33m \u001b[1;32mfrom\u001b[0m \u001b[0mscipy\u001b[0m\u001b[1;33m.\u001b[0m\u001b[0mlinalg\u001b[0m \u001b[1;32mimport\u001b[0m \u001b[0mschur\u001b[0m\u001b[1;33m\u001b[0m\u001b[1;33m\u001b[0m\u001b[0m\n\u001b[0m\u001b[0;32m     19\u001b[0m \u001b[1;33m\u001b[0m\u001b[0m\n\u001b[0;32m     20\u001b[0m \u001b[1;32mfrom\u001b[0m \u001b[0mqiskit\u001b[0m\u001b[1;33m.\u001b[0m\u001b[0mcircuit\u001b[0m\u001b[1;33m.\u001b[0m\u001b[0mparameter\u001b[0m \u001b[1;32mimport\u001b[0m \u001b[0mParameterExpression\u001b[0m\u001b[1;33m\u001b[0m\u001b[1;33m\u001b[0m\u001b[0m\n",
      "\u001b[1;31mModuleNotFoundError\u001b[0m: No module named 'scipy.linalg'"
     ]
    }
   ],
   "source": [
    "# The code below is a hack in case Travis' kernel fails.\n",
    "#import os\n",
    "#os.environ['KMP_DUPLICATE_LIB_OK'] ='True'\n",
    "\n",
    "# Pull in the helper files.\n",
    "%run experiments"
   ]
  },
  {
   "cell_type": "code",
   "execution_count": 3,
   "id": "bfe9570a",
   "metadata": {},
   "outputs": [],
   "source": [
    "# Set up the experiment\n",
    "circuitID = 1\n",
    "dataSetID = '0'\n",
    "learning_rate = .5\n",
    "epochs = 1"
   ]
  },
  {
   "cell_type": "code",
   "execution_count": 4,
   "id": "07634bf8",
   "metadata": {},
   "outputs": [
    {
     "ename": "NameError",
     "evalue": "name 'load_data' is not defined",
     "output_type": "error",
     "traceback": [
      "\u001b[1;31m---------------------------------------------------------------------------\u001b[0m",
      "\u001b[1;31mNameError\u001b[0m                                 Traceback (most recent call last)",
      "\u001b[1;32m<ipython-input-4-45c85b265a71>\u001b[0m in \u001b[0;36m<module>\u001b[1;34m\u001b[0m\n\u001b[0;32m      2\u001b[0m \u001b[1;33m\u001b[0m\u001b[0m\n\u001b[0;32m      3\u001b[0m \u001b[1;31m# Load in the data\u001b[0m\u001b[1;33m\u001b[0m\u001b[1;33m\u001b[0m\u001b[1;33m\u001b[0m\u001b[0m\n\u001b[1;32m----> 4\u001b[1;33m \u001b[0mdata\u001b[0m \u001b[1;33m=\u001b[0m \u001b[0mload_data\u001b[0m\u001b[1;33m(\u001b[0m\u001b[0mdataSetID\u001b[0m\u001b[1;33m)\u001b[0m\u001b[1;33m\u001b[0m\u001b[1;33m\u001b[0m\u001b[0m\n\u001b[0m\u001b[0;32m      5\u001b[0m \u001b[1;33m\u001b[0m\u001b[0m\n\u001b[0;32m      6\u001b[0m \u001b[1;31m# Generate the splittings\u001b[0m\u001b[1;33m\u001b[0m\u001b[1;33m\u001b[0m\u001b[1;33m\u001b[0m\u001b[0m\n",
      "\u001b[1;31mNameError\u001b[0m: name 'load_data' is not defined"
     ]
    }
   ],
   "source": [
    "# Run the experiment\n",
    "\n",
    "# Load in the data\n",
    "data = load_data(dataSetID)\n",
    "\n",
    "# Generate the splittings\n",
    "train_X, train_y, validate_X, validate_y, test_X, test_y = generate_train_validate_test_data(data)\n",
    "\n",
    "# Make the feature map\n",
    "feature_map= make_embedding_circuit()\n",
    "\n",
    "# Make the classifier\n",
    "ansatz = make_classifer_circuit(circuitID)\n",
    "\n",
    "# Do the training\n",
    "model = train_model(feature_map, ansatz, epochs, learning_rate, train_X, train_y)\n",
    "\n",
    "# Check the validation accuracy.\n",
    "val_accuracy = check_accuracy(model, validate_X, validate_y)\n",
    "\n",
    "print(circuitID, dataSetID, learning_rate, val_accuracy)"
   ]
  },
  {
   "cell_type": "code",
   "execution_count": null,
   "id": "c1965e15",
   "metadata": {},
   "outputs": [],
   "source": [
    "def multiprosmodel(learning_rate):\n",
    "    model = train_model(feature_map, ansatz, epochs, learning_rate, train_X, train_y)\n",
    "    val_accuracy=check_accuracy(model, validate_X, validate_y)\n",
    "    return [learning_rate,val_accuracy]"
   ]
  },
  {
   "cell_type": "code",
   "execution_count": 5,
   "id": "804e44b7",
   "metadata": {},
   "outputs": [],
   "source": [
    "from multiprocessing import Pool\n",
    "from functools import partial\n",
    "import inspect\n",
    "\n",
    "def parallal_task(multiprosmodel,lr):\n",
    "    if __name__ == '__main__':\n",
    "        pool = Pool(processes=4)\n",
    "        res = pool.map(multiprosmodel, lr)\n",
    "        pool.close()\n",
    "        return res\n",
    "    else:\n",
    "        raise \"Not in Jupyter Notebook\""
   ]
  },
  {
   "cell_type": "code",
   "execution_count": null,
   "id": "e350a1b5",
   "metadata": {},
   "outputs": [],
   "source": [
    "data_list = [0.1,0.2,0.3,0.4]\n",
    "\n",
    "for res in parallal_task(multiprosmodel, data_list):\n",
    "    print(res) "
   ]
  },
  {
   "cell_type": "code",
   "execution_count": null,
   "id": "a9ebb952",
   "metadata": {},
   "outputs": [],
   "source": []
  }
 ],
 "metadata": {
  "kernelspec": {
   "display_name": "Python 3",
   "language": "python",
   "name": "python3"
  },
  "language_info": {
   "codemirror_mode": {
    "name": "ipython",
    "version": 3
   },
   "file_extension": ".py",
   "mimetype": "text/x-python",
   "name": "python",
   "nbconvert_exporter": "python",
   "pygments_lexer": "ipython3",
   "version": "3.8.8"
  }
 },
 "nbformat": 4,
 "nbformat_minor": 5
}
